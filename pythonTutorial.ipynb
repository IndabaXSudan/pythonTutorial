{
  "nbformat": 4,
  "nbformat_minor": 0,
  "metadata": {
    "colab": {
      "name": "Practical 0: Python and Numpy",
      "version": "0.3.2",
      "views": {},
      "default_view": {},
      "provenance": [],
      "last_runtime": {
        "build_target": "//learning/deepmind/dm_python:dm_notebook",
        "kind": "private"
      }
    }
  },
  "cells": [
    {
      "metadata": {
        "id": "6-VA1v4W5q1H",
        "colab_type": "text"
      },
      "source": [
        "# DL Indaba Pre-Work\n",
        "# Python & Numpy Tutorial"
      ],
      "cell_type": "markdown"
    },
    {
      "metadata": {
        "id": "8kXrQkBl5q1J",
        "colab_type": "text"
      },
      "source": [
        "**Introduction**\n",
        "\n",
        "This tutorial provides a gentle, hands-on introduction to the Python programming language, and the Numpy library for scientific computing.\n",
        "\n",
        "**What is expected of you:**\n",
        "\n",
        "* Work through this at your own leisure before the Indaba.\n",
        "* Fill out the form at the end to let us know you were able to complete this before the Indaba."
      ],
      "cell_type": "markdown"
    },
    {
      "metadata": {
        "id": "ay9mgFSO5q1M",
        "colab_type": "text"
      },
      "source": [
        "##Introduction"
      ],
      "cell_type": "markdown"
    },
    {
      "metadata": {
        "id": "fcfkw97U5q1N",
        "colab_type": "text"
      },
      "source": [
        "Python is a great general-purpose programming language on its own, but with the help of a few popular libraries (numpy, scipy, matplotlib) it becomes a powerful environment for scientific computing.\n",
        "\n",
        "We expect that many of you will have some experience with Python and numpy; for the rest of you, this section will serve as a quick crash course both on the Python programming language and on the use of Python for scientific computing.\n",
        "\n",
        "Some of you may have previous knowledge in Matlab, in which case we also recommend the numpy for Matlab users page (https://docs.scipy.org/doc/numpy-dev/user/numpy-for-matlab-users.html)."
      ],
      "cell_type": "markdown"
    },
    {
      "metadata": {
        "id": "qo36kJw25q1P",
        "colab_type": "text"
      },
      "source": [
        "In this tutorial, we will cover:\n",
        "\n",
        "* Basic Python: Basic data types (Containers, Lists, Dictionaries, Sets, Tuples), Functions, Classes\n",
        "* Numpy: Arrays, Array indexing, Datatypes, Array math, Broadcasting\n",
        "* Matplotlib: Plotting, Subplots, Images\n",
        "* IPython: Creating notebooks, Typical workflows"
      ],
      "cell_type": "markdown"
    },
    {
      "metadata": {
        "id": "CV6OV42I5q1R",
        "colab_type": "text"
      },
      "source": [
        "##Basics of Python"
      ],
      "cell_type": "markdown"
    },
    {
      "metadata": {
        "id": "B9MacMaY5q1T",
        "colab_type": "text"
      },
      "source": [
        "Python is a high-level, dynamically typed multiparadigm programming language. Python code is often said to be almost like pseudocode, since it allows you to express very powerful ideas in very few lines of code while being very readable. As an example, here is an implementation of the classic quicksort algorithm in Python:\n",
        "\n",
        "**NOTE**: In IPython, you can execute the code in a cell by clicking inside the cell and pressing both **Shift+Enter** at the same time."
      ],
      "cell_type": "markdown"
    },
    {
      "metadata": {
        "id": "wpYJZksQ5q1W",
        "colab_type": "code",
        "colab": {
          "autoexec": {
            "startup": false,
            "wait_interval": 0
          },
          "output_extras": [
            {
              "item_id": 1
            }
          ],
          "height": 34
        },
        "outputId": "3beb54cc-8c0a-4394-9714-d5bc841a648a",
        "executionInfo": {
          "status": "ok",
          "timestamp": 1503332379960,
          "user_tz": -60,
          "elapsed": 168,
          "user": {
            "displayName": "Ulrich Paquet",
            "photoUrl": "//lh3.googleusercontent.com/-q3A91HQu7t8/AAAAAAAAAAI/AAAAAAAAAAw/O3bjgikw0xQ/s50-c-k-no/photo.jpg",
            "userId": "117228953648657363788"
          }
        }
      },
      "source": [
        "def quicksort(arr):\n",
        "    if len(arr) <= 1:\n",
        "        return arr\n",
        "    pivot = arr[len(arr) / 2]\n",
        "    left = [x for x in arr if x < pivot]\n",
        "    middle = [x for x in arr if x == pivot]\n",
        "    right = [x for x in arr if x > pivot]\n",
        "    return quicksort(left) + middle + quicksort(right)\n",
        "\n",
        "print quicksort([3,6,8,10,1,2,1])"
      ],
      "cell_type": "code",
      "execution_count": 1,
      "outputs": [
        {
          "output_type": "stream",
          "text": [
            "[1, 1, 2, 3, 6, 8, 10]\n"
          ],
          "name": "stdout"
        }
      ]
    },
    {
      "metadata": {
        "id": "LfhFbB8Z5q1i",
        "colab_type": "text"
      },
      "source": [
        "###Python versions"
      ],
      "cell_type": "markdown"
    },
    {
      "metadata": {
        "id": "cJCjzx7Y5q1k",
        "colab_type": "text"
      },
      "source": [
        "There are currently two different supported versions of Python, 2.7 and 3.4. Somewhat confusingly, Python 3.0 introduced many backwards-incompatible changes to the language, so code written for 2.7 may not work under 3.4 and vice versa. For this class all code will use Python 2.7.\n",
        "\n",
        "You can check your Python version at the command line by running `python --version`."
      ],
      "cell_type": "markdown"
    },
    {
      "metadata": {
        "id": "sotHVM0t5q1l",
        "colab_type": "text"
      },
      "source": [
        "###Basic data types"
      ],
      "cell_type": "markdown"
    },
    {
      "metadata": {
        "id": "THkpPxwN5q1n",
        "colab_type": "text"
      },
      "source": [
        "####Numbers"
      ],
      "cell_type": "markdown"
    },
    {
      "metadata": {
        "id": "f3xyLvxW5q1o",
        "colab_type": "text"
      },
      "source": [
        "Integers and floats work as you would expect from other languages:"
      ],
      "cell_type": "markdown"
    },
    {
      "metadata": {
        "id": "bVYQAovh5q1q",
        "colab_type": "code",
        "colab": {
          "autoexec": {
            "startup": false,
            "wait_interval": 0
          },
          "output_extras": [
            {
              "item_id": 1
            }
          ],
          "height": 34
        },
        "outputId": "cd815150-8cb4-4a97-c582-0be673817fd3",
        "executionInfo": {
          "status": "ok",
          "timestamp": 1502551239962,
          "user_tz": -60,
          "elapsed": 52,
          "user": {
            "displayName": "Stephan Gouws",
            "photoUrl": "//lh4.googleusercontent.com/-6znVyM1oxdg/AAAAAAAAAAI/AAAAAAAAABI/vEPo2Ce7Rpc/s50-c-k-no/photo.jpg",
            "userId": "102606466886131565871"
          }
        }
      },
      "source": [
        "x = 3\n",
        "print x, type(x)"
      ],
      "cell_type": "code",
      "execution_count": 3,
      "outputs": [
        {
          "output_type": "stream",
          "text": [
            "3 <type 'int'>\n"
          ],
          "name": "stdout"
        }
      ]
    },
    {
      "metadata": {
        "id": "dztfWsYU5q1y",
        "colab_type": "code",
        "colab": {
          "autoexec": {
            "startup": false,
            "wait_interval": 0
          },
          "output_extras": [
            {
              "item_id": 1
            }
          ],
          "height": 85
        },
        "outputId": "e7e6d473-eac2-43e9-f544-936572607bfb",
        "executionInfo": {
          "status": "ok",
          "timestamp": 1502551241500,
          "user_tz": -60,
          "elapsed": 50,
          "user": {
            "displayName": "Stephan Gouws",
            "photoUrl": "//lh4.googleusercontent.com/-6znVyM1oxdg/AAAAAAAAAAI/AAAAAAAAABI/vEPo2Ce7Rpc/s50-c-k-no/photo.jpg",
            "userId": "102606466886131565871"
          }
        }
      },
      "source": [
        "print x + 1   # Addition;\n",
        "print x - 1   # Subtraction;\n",
        "print x * 2   # Multiplication;\n",
        "print x ** 2  # Exponentiation;"
      ],
      "cell_type": "code",
      "execution_count": 4,
      "outputs": [
        {
          "output_type": "stream",
          "text": [
            "4\n",
            "2\n",
            "6\n",
            "9\n"
          ],
          "name": "stdout"
        }
      ]
    },
    {
      "metadata": {
        "id": "gOmd8lBF5q16",
        "colab_type": "code",
        "colab": {
          "autoexec": {
            "startup": false,
            "wait_interval": 0
          },
          "output_extras": [
            {
              "item_id": 1
            }
          ],
          "height": 51
        },
        "outputId": "999efd4a-1099-429a-c71c-3624769f24dd",
        "executionInfo": {
          "status": "ok",
          "timestamp": 1502551243887,
          "user_tz": -60,
          "elapsed": 55,
          "user": {
            "displayName": "Stephan Gouws",
            "photoUrl": "//lh4.googleusercontent.com/-6znVyM1oxdg/AAAAAAAAAAI/AAAAAAAAABI/vEPo2Ce7Rpc/s50-c-k-no/photo.jpg",
            "userId": "102606466886131565871"
          }
        }
      },
      "source": [
        "x += 1\n",
        "print x  # Prints \"4\"\n",
        "x *= 2\n",
        "print x  # Prints \"8\""
      ],
      "cell_type": "code",
      "execution_count": 5,
      "outputs": [
        {
          "output_type": "stream",
          "text": [
            "4\n",
            "8\n"
          ],
          "name": "stdout"
        }
      ]
    },
    {
      "metadata": {
        "id": "g4NuhVfj5q2E",
        "colab_type": "code",
        "colab": {
          "autoexec": {
            "startup": false,
            "wait_interval": 0
          },
          "output_extras": [
            {
              "item_id": 1
            }
          ],
          "height": 51
        },
        "outputId": "19f11bbe-1784-4ac3-e083-0f0f3eaca5f5",
        "executionInfo": {
          "status": "ok",
          "timestamp": 1502551245526,
          "user_tz": -60,
          "elapsed": 48,
          "user": {
            "displayName": "Stephan Gouws",
            "photoUrl": "//lh4.googleusercontent.com/-6znVyM1oxdg/AAAAAAAAAAI/AAAAAAAAABI/vEPo2Ce7Rpc/s50-c-k-no/photo.jpg",
            "userId": "102606466886131565871"
          }
        }
      },
      "source": [
        "y = 2.5\n",
        "print type(y) # Prints \"<type 'float'>\"\n",
        "print y, y + 1, y * 2, y ** 2 # Prints \"2.5 3.5 5.0 6.25\""
      ],
      "cell_type": "code",
      "execution_count": 6,
      "outputs": [
        {
          "output_type": "stream",
          "text": [
            "<type 'float'>\n",
            "2.5 3.5 5.0 6.25\n"
          ],
          "name": "stdout"
        }
      ]
    },
    {
      "metadata": {
        "id": "we75WUci5q2O",
        "colab_type": "text"
      },
      "source": [
        "Note that unlike many languages, Python does not have unary increment (x++) or decrement (x--) operators.\n",
        "\n",
        "Python also has built-in types for long integers and complex numbers; you can find all of the details in the [documentation](https://docs.python.org/2/library/stdtypes.html#numeric-types-int-float-long-complex)."
      ],
      "cell_type": "markdown"
    },
    {
      "metadata": {
        "id": "uUl_bk835q2P",
        "colab_type": "text"
      },
      "source": [
        "####Booleans"
      ],
      "cell_type": "markdown"
    },
    {
      "metadata": {
        "id": "rgeh2qDx5q2Q",
        "colab_type": "text"
      },
      "source": [
        "Python implements all of the usual operators for Boolean logic, but uses English words rather than symbols (`&&`, `||`, etc.):"
      ],
      "cell_type": "markdown"
    },
    {
      "metadata": {
        "id": "yo6wobrY5q2R",
        "colab_type": "code",
        "colab": {
          "autoexec": {
            "startup": false,
            "wait_interval": 0
          },
          "output_extras": [
            {
              "item_id": 1
            }
          ],
          "height": 34
        },
        "outputId": "6c27aae1-d355-4bb8-ea0f-6d6f592bbd6d",
        "executionInfo": {
          "status": "ok",
          "timestamp": 1502551248074,
          "user_tz": -60,
          "elapsed": 54,
          "user": {
            "displayName": "Stephan Gouws",
            "photoUrl": "//lh4.googleusercontent.com/-6znVyM1oxdg/AAAAAAAAAAI/AAAAAAAAABI/vEPo2Ce7Rpc/s50-c-k-no/photo.jpg",
            "userId": "102606466886131565871"
          }
        }
      },
      "source": [
        "t, f = True, False\n",
        "print type(t) # Prints \"<type 'bool'>\""
      ],
      "cell_type": "code",
      "execution_count": 7,
      "outputs": [
        {
          "output_type": "stream",
          "text": [
            "<type 'bool'>\n"
          ],
          "name": "stdout"
        }
      ]
    },
    {
      "metadata": {
        "id": "zsBdYsbJ5q2Z",
        "colab_type": "text"
      },
      "source": [
        "Now we let's look at the operations:"
      ],
      "cell_type": "markdown"
    },
    {
      "metadata": {
        "id": "BNVhsasL5q2c",
        "colab_type": "code",
        "colab": {
          "autoexec": {
            "startup": false,
            "wait_interval": 0
          },
          "output_extras": [
            {
              "item_id": 1
            }
          ],
          "height": 85
        },
        "outputId": "977c0858-95ae-4f1b-b9d6-75cc0978a7cb",
        "executionInfo": {
          "status": "ok",
          "timestamp": 1502551254307,
          "user_tz": -60,
          "elapsed": 307,
          "user": {
            "displayName": "Stephan Gouws",
            "photoUrl": "//lh4.googleusercontent.com/-6znVyM1oxdg/AAAAAAAAAAI/AAAAAAAAABI/vEPo2Ce7Rpc/s50-c-k-no/photo.jpg",
            "userId": "102606466886131565871"
          }
        }
      },
      "source": [
        "print t and f # Logical AND;\n",
        "print t or f  # Logical OR;\n",
        "print not t   # Logical NOT;\n",
        "print t != f  # Logical XOR;"
      ],
      "cell_type": "code",
      "execution_count": 8,
      "outputs": [
        {
          "output_type": "stream",
          "text": [
            "False\n",
            "True\n",
            "False\n",
            "True\n"
          ],
          "name": "stdout"
        }
      ]
    },
    {
      "metadata": {
        "id": "jWt1jbF75q2j",
        "colab_type": "text"
      },
      "source": [
        "####Strings"
      ],
      "cell_type": "markdown"
    },
    {
      "metadata": {
        "id": "uyldbWX75q2k",
        "colab_type": "code",
        "colab": {
          "autoexec": {
            "startup": false,
            "wait_interval": 0
          },
          "output_extras": [
            {
              "item_id": 1
            }
          ],
          "height": 34
        },
        "outputId": "966a5e35-0dfb-45cc-b99f-b3b7f7a33510",
        "executionInfo": {
          "status": "ok",
          "timestamp": 1502551255992,
          "user_tz": -60,
          "elapsed": 53,
          "user": {
            "displayName": "Stephan Gouws",
            "photoUrl": "//lh4.googleusercontent.com/-6znVyM1oxdg/AAAAAAAAAAI/AAAAAAAAABI/vEPo2Ce7Rpc/s50-c-k-no/photo.jpg",
            "userId": "102606466886131565871"
          }
        }
      },
      "source": [
        "hello = 'hello'   # String literals can use single quotes\n",
        "world = \"world\"   # or double quotes; it does not matter.\n",
        "print hello, len(hello)"
      ],
      "cell_type": "code",
      "execution_count": 9,
      "outputs": [
        {
          "output_type": "stream",
          "text": [
            "hello 5\n"
          ],
          "name": "stdout"
        }
      ]
    },
    {
      "metadata": {
        "id": "69vTXT6m5q2p",
        "colab_type": "code",
        "colab": {
          "autoexec": {
            "startup": false,
            "wait_interval": 0
          },
          "output_extras": [
            {
              "item_id": 1
            }
          ],
          "height": 34
        },
        "outputId": "a3932524-42fe-472a-fb3c-290e06d621e5",
        "executionInfo": {
          "status": "ok",
          "timestamp": 1502551258065,
          "user_tz": -60,
          "elapsed": 61,
          "user": {
            "displayName": "Stephan Gouws",
            "photoUrl": "//lh4.googleusercontent.com/-6znVyM1oxdg/AAAAAAAAAAI/AAAAAAAAABI/vEPo2Ce7Rpc/s50-c-k-no/photo.jpg",
            "userId": "102606466886131565871"
          }
        }
      },
      "source": [
        "hw = hello + ' ' + world  # String concatenation\n",
        "print hw  # prints \"hello world\""
      ],
      "cell_type": "code",
      "execution_count": 10,
      "outputs": [
        {
          "output_type": "stream",
          "text": [
            "hello world\n"
          ],
          "name": "stdout"
        }
      ]
    },
    {
      "metadata": {
        "id": "KPvy1sbJ5q2u",
        "colab_type": "code",
        "colab": {
          "autoexec": {
            "startup": false,
            "wait_interval": 0
          },
          "output_extras": [
            {
              "item_id": 1
            }
          ],
          "height": 34
        },
        "outputId": "904a93f5-194b-4055-bb2c-daf04b5af05d",
        "executionInfo": {
          "status": "ok",
          "timestamp": 1502551261894,
          "user_tz": -60,
          "elapsed": 47,
          "user": {
            "displayName": "Stephan Gouws",
            "photoUrl": "//lh4.googleusercontent.com/-6znVyM1oxdg/AAAAAAAAAAI/AAAAAAAAABI/vEPo2Ce7Rpc/s50-c-k-no/photo.jpg",
            "userId": "102606466886131565871"
          }
        }
      },
      "source": [
        "hw12 = '%s %s %d' % (hello, world, 12)  # sprintf style string formatting\n",
        "print hw12  # prints \"hello world 12\""
      ],
      "cell_type": "code",
      "execution_count": 11,
      "outputs": [
        {
          "output_type": "stream",
          "text": [
            "hello world 12\n"
          ],
          "name": "stdout"
        }
      ]
    },
    {
      "metadata": {
        "id": "Q-xLTBCM5q2y",
        "colab_type": "text"
      },
      "source": [
        "String objects have a bunch of useful methods; for example:"
      ],
      "cell_type": "markdown"
    },
    {
      "metadata": {
        "id": "5tMbkHM65q20",
        "colab_type": "code",
        "colab": {
          "autoexec": {
            "startup": false,
            "wait_interval": 0
          },
          "output_extras": [
            {
              "item_id": 1
            }
          ],
          "height": 119
        },
        "outputId": "4e5d398d-682d-4589-fe6b-24a3a90635de",
        "executionInfo": {
          "status": "ok",
          "timestamp": 1502551263965,
          "user_tz": -60,
          "elapsed": 38,
          "user": {
            "displayName": "Stephan Gouws",
            "photoUrl": "//lh4.googleusercontent.com/-6znVyM1oxdg/AAAAAAAAAAI/AAAAAAAAABI/vEPo2Ce7Rpc/s50-c-k-no/photo.jpg",
            "userId": "102606466886131565871"
          }
        }
      },
      "source": [
        "s = \"hello\"\n",
        "print s.capitalize()  # Capitalize a string; prints \"Hello\"\n",
        "print s.upper()       # Convert a string to uppercase; prints \"HELLO\"\n",
        "print s.rjust(7)      # Right-justify a string, padding with spaces; prints \"  hello\"\n",
        "print s.center(7)     # Center a string, padding with spaces; prints \" hello \"\n",
        "print s.replace('l', '(ell)')  # Replace all instances of one substring with another;\n",
        "                               # prints \"he(ell)(ell)o\"\n",
        "print '  world '.strip()  # Strip leading and trailing whitespace; prints \"world\""
      ],
      "cell_type": "code",
      "execution_count": 12,
      "outputs": [
        {
          "output_type": "stream",
          "text": [
            "Hello\n",
            "HELLO\n",
            "  hello\n",
            " hello \n",
            "he(ell)(ell)o\n",
            "world\n"
          ],
          "name": "stdout"
        }
      ]
    },
    {
      "metadata": {
        "id": "7iVAp_Hm5q24",
        "colab_type": "text"
      },
      "source": [
        "You can find a list of all string methods in the [documentation](https://docs.python.org/2/library/stdtypes.html#string-methods)."
      ],
      "cell_type": "markdown"
    },
    {
      "metadata": {
        "id": "jHCAFmb95q25",
        "colab_type": "text"
      },
      "source": [
        "###Containers"
      ],
      "cell_type": "markdown"
    },
    {
      "metadata": {
        "id": "-PerHSky5q25",
        "colab_type": "text"
      },
      "source": [
        "Python includes several built-in container types: lists, dictionaries, sets, and tuples."
      ],
      "cell_type": "markdown"
    },
    {
      "metadata": {
        "id": "f9BNPsMT5q27",
        "colab_type": "text"
      },
      "source": [
        "####Lists"
      ],
      "cell_type": "markdown"
    },
    {
      "metadata": {
        "id": "ipDjlY6S5q28",
        "colab_type": "text"
      },
      "source": [
        "A list is the Python equivalent of an array, but is resizeable and can contain elements of different types:"
      ],
      "cell_type": "markdown"
    },
    {
      "metadata": {
        "id": "4_TQGb2i5q29",
        "colab_type": "code",
        "colab": {
          "autoexec": {
            "startup": false,
            "wait_interval": 0
          },
          "output_extras": [
            {
              "item_id": 1
            }
          ],
          "height": 51
        },
        "outputId": "7f4cab9d-5219-4d89-869f-9313740c0624",
        "executionInfo": {
          "status": "ok",
          "timestamp": 1502551275581,
          "user_tz": -60,
          "elapsed": 58,
          "user": {
            "displayName": "Stephan Gouws",
            "photoUrl": "//lh4.googleusercontent.com/-6znVyM1oxdg/AAAAAAAAAAI/AAAAAAAAABI/vEPo2Ce7Rpc/s50-c-k-no/photo.jpg",
            "userId": "102606466886131565871"
          }
        }
      },
      "source": [
        "xs = [3, 1, 2]   # Create a list\n",
        "print xs, xs[2]\n",
        "print xs[-1]     # Negative indices count from the end of the list; prints \"2\""
      ],
      "cell_type": "code",
      "execution_count": 13,
      "outputs": [
        {
          "output_type": "stream",
          "text": [
            "[3, 1, 2] 2\n",
            "2\n"
          ],
          "name": "stdout"
        }
      ]
    },
    {
      "metadata": {
        "id": "aqoDqKcQ5q3A",
        "colab_type": "code",
        "colab": {
          "autoexec": {
            "startup": false,
            "wait_interval": 0
          },
          "output_extras": [
            {
              "item_id": 1
            }
          ],
          "height": 34
        },
        "outputId": "30f349ec-e95b-4a35-80f8-49341bd0fe25",
        "executionInfo": {
          "status": "ok",
          "timestamp": 1502551277128,
          "user_tz": -60,
          "elapsed": 44,
          "user": {
            "displayName": "Stephan Gouws",
            "photoUrl": "//lh4.googleusercontent.com/-6znVyM1oxdg/AAAAAAAAAAI/AAAAAAAAABI/vEPo2Ce7Rpc/s50-c-k-no/photo.jpg",
            "userId": "102606466886131565871"
          }
        }
      },
      "source": [
        "xs[2] = 'foo'    # Lists can contain elements of different types\n",
        "print xs"
      ],
      "cell_type": "code",
      "execution_count": 14,
      "outputs": [
        {
          "output_type": "stream",
          "text": [
            "[3, 1, 'foo']\n"
          ],
          "name": "stdout"
        }
      ]
    },
    {
      "metadata": {
        "id": "WrloXM9J5q3G",
        "colab_type": "code",
        "colab": {
          "autoexec": {
            "startup": false,
            "wait_interval": 0
          },
          "output_extras": [
            {}
          ]
        },
        "outputId": "000ea01a-f189-4fd8-aeed-a05d76b77393"
      },
      "source": [
        "xs.append('bar') # Add a new element to the end of the list\n",
        "print xs  "
      ],
      "cell_type": "code",
      "execution_count": 0,
      "outputs": [
        {
          "output_type": "stream",
          "text": [
            "[3, 1, 'foo', 'bar', 'bar']\n"
          ],
          "name": "stdout"
        }
      ]
    },
    {
      "metadata": {
        "id": "EkQ9BNzz5q3J",
        "colab_type": "code",
        "colab": {
          "autoexec": {
            "startup": false,
            "wait_interval": 0
          },
          "output_extras": [
            {}
          ]
        },
        "outputId": "f528eab9-f64b-4c40-914e-184dc42a4c87"
      },
      "source": [
        "x = xs.pop()     # Remove and return the last element of the list\n",
        "print x, xs "
      ],
      "cell_type": "code",
      "execution_count": 0,
      "outputs": [
        {
          "output_type": "stream",
          "text": [
            "bar [3, 1, 'foo']\n"
          ],
          "name": "stdout"
        }
      ]
    },
    {
      "metadata": {
        "id": "wTDsbYOh5q3N",
        "colab_type": "text"
      },
      "source": [
        "As usual, you can find all the gory details about lists in the [documentation](https://docs.python.org/2/tutorial/datastructures.html#more-on-lists)."
      ],
      "cell_type": "markdown"
    },
    {
      "metadata": {
        "id": "OwN1QfB25q3P",
        "colab_type": "text"
      },
      "source": [
        "####Slicing"
      ],
      "cell_type": "markdown"
    },
    {
      "metadata": {
        "id": "jcMqNrgu5q3Q",
        "colab_type": "text"
      },
      "source": [
        "In addition to accessing list elements one at a time, Python provides concise syntax to access sublists; this is known as slicing:"
      ],
      "cell_type": "markdown"
    },
    {
      "metadata": {
        "id": "wwZ6SA-L5q3Q",
        "colab_type": "code",
        "colab": {
          "autoexec": {
            "startup": false,
            "wait_interval": 0
          },
          "output_extras": [
            {
              "item_id": 1
            }
          ],
          "height": 136
        },
        "outputId": "c6b156af-5b32-4f69-8317-54228b949d26",
        "executionInfo": {
          "status": "ok",
          "timestamp": 1502551283519,
          "user_tz": -60,
          "elapsed": 39,
          "user": {
            "displayName": "Stephan Gouws",
            "photoUrl": "//lh4.googleusercontent.com/-6znVyM1oxdg/AAAAAAAAAAI/AAAAAAAAABI/vEPo2Ce7Rpc/s50-c-k-no/photo.jpg",
            "userId": "102606466886131565871"
          }
        }
      },
      "source": [
        "nums = range(5)    # range is a built-in function that creates a list of integers\n",
        "print nums         # Prints \"[0, 1, 2, 3, 4]\"\n",
        "print nums[2:4]    # Get a slice from index 2 to 4 (exclusive); prints \"[2, 3]\"\n",
        "print nums[2:]     # Get a slice from index 2 to the end; prints \"[2, 3, 4]\"\n",
        "print nums[:2]     # Get a slice from the start to index 2 (exclusive); prints \"[0, 1]\"\n",
        "print nums[:]      # Get a slice of the whole list; prints \"[0, 1, 2, 3, 4]\"\n",
        "print nums[:-1]    # Slice indices can be negative; prints \"[0, 1, 2, 3]\"\n",
        "nums[2:4] = [8, 9] # Assign a new sublist to a slice\n",
        "print nums         # Prints \"[0, 1, 8, 8, 4]\""
      ],
      "cell_type": "code",
      "execution_count": 15,
      "outputs": [
        {
          "output_type": "stream",
          "text": [
            "[0, 1, 2, 3, 4]\n",
            "[2, 3]\n",
            "[2, 3, 4]\n",
            "[0, 1]\n",
            "[0, 1, 2, 3, 4]\n",
            "[0, 1, 2, 3]\n",
            "[0, 1, 8, 9, 4]\n"
          ],
          "name": "stdout"
        }
      ]
    },
    {
      "metadata": {
        "id": "5xiRdmop5q3V",
        "colab_type": "text"
      },
      "source": [
        "####Loops"
      ],
      "cell_type": "markdown"
    },
    {
      "metadata": {
        "id": "W4aIykm35q3W",
        "colab_type": "text"
      },
      "source": [
        "You can loop over the elements of a list like this:"
      ],
      "cell_type": "markdown"
    },
    {
      "metadata": {
        "id": "DzPkWoQU5q3X",
        "colab_type": "code",
        "colab": {
          "autoexec": {
            "startup": false,
            "wait_interval": 0
          },
          "output_extras": [
            {
              "item_id": 1
            }
          ],
          "height": 68
        },
        "outputId": "b2ad2b6f-8202-461a-8354-ed78d5734522",
        "executionInfo": {
          "status": "ok",
          "timestamp": 1502551289100,
          "user_tz": -60,
          "elapsed": 48,
          "user": {
            "displayName": "Stephan Gouws",
            "photoUrl": "//lh4.googleusercontent.com/-6znVyM1oxdg/AAAAAAAAAAI/AAAAAAAAABI/vEPo2Ce7Rpc/s50-c-k-no/photo.jpg",
            "userId": "102606466886131565871"
          }
        }
      },
      "source": [
        "animals = ['cat', 'dog', 'monkey']\n",
        "for animal in animals:\n",
        "    print animal"
      ],
      "cell_type": "code",
      "execution_count": 16,
      "outputs": [
        {
          "output_type": "stream",
          "text": [
            "cat\n",
            "dog\n",
            "monkey\n"
          ],
          "name": "stdout"
        }
      ]
    },
    {
      "metadata": {
        "id": "SfjRY7oh5q3c",
        "colab_type": "text"
      },
      "source": [
        "If you want access to the index of each element within the body of a loop, use the built-in `enumerate` function:"
      ],
      "cell_type": "markdown"
    },
    {
      "metadata": {
        "id": "KHfWh7cm5q3d",
        "colab_type": "code",
        "colab": {
          "autoexec": {
            "startup": false,
            "wait_interval": 0
          },
          "output_extras": [
            {
              "item_id": 1
            }
          ],
          "height": 68
        },
        "outputId": "3050833d-e42c-4c9a-a5af-b916cd29e662",
        "executionInfo": {
          "status": "ok",
          "timestamp": 1502551290801,
          "user_tz": -60,
          "elapsed": 51,
          "user": {
            "displayName": "Stephan Gouws",
            "photoUrl": "//lh4.googleusercontent.com/-6znVyM1oxdg/AAAAAAAAAAI/AAAAAAAAABI/vEPo2Ce7Rpc/s50-c-k-no/photo.jpg",
            "userId": "102606466886131565871"
          }
        }
      },
      "source": [
        "animals = ['cat', 'dog', 'monkey']\n",
        "for idx, animal in enumerate(animals):\n",
        "    print '#%d: %s' % (idx + 1, animal)"
      ],
      "cell_type": "code",
      "execution_count": 17,
      "outputs": [
        {
          "output_type": "stream",
          "text": [
            "#1: cat\n",
            "#2: dog\n",
            "#3: monkey\n"
          ],
          "name": "stdout"
        }
      ]
    },
    {
      "metadata": {
        "id": "GbMrJih65q3f",
        "colab_type": "text"
      },
      "source": [
        "####List comprehensions:"
      ],
      "cell_type": "markdown"
    },
    {
      "metadata": {
        "id": "uEw19H_q5q3g",
        "colab_type": "text"
      },
      "source": [
        "When programming, frequently we want to transform one type of data into another. As a simple example, consider the following code that computes square numbers:"
      ],
      "cell_type": "markdown"
    },
    {
      "metadata": {
        "id": "q3nPnpPE5q3h",
        "colab_type": "code",
        "colab": {
          "autoexec": {
            "startup": false,
            "wait_interval": 0
          },
          "output_extras": [
            {}
          ]
        },
        "outputId": "eca60e02-7608-49db-8821-33f428ce2368"
      },
      "source": [
        "nums = [0, 1, 2, 3, 4]\n",
        "squares = []\n",
        "for x in nums:\n",
        "    squares.append(x ** 2)\n",
        "print squares"
      ],
      "cell_type": "code",
      "execution_count": 0,
      "outputs": [
        {
          "output_type": "stream",
          "text": [
            "[0, 1, 4, 9, 16]\n"
          ],
          "name": "stdout"
        }
      ]
    },
    {
      "metadata": {
        "id": "uSsysiX95q3k",
        "colab_type": "text"
      },
      "source": [
        "You can make this code simpler using a list comprehension:"
      ],
      "cell_type": "markdown"
    },
    {
      "metadata": {
        "id": "k4ezY_Vn5q3l",
        "colab_type": "code",
        "colab": {
          "autoexec": {
            "startup": false,
            "wait_interval": 0
          },
          "output_extras": [
            {
              "item_id": 1
            }
          ],
          "height": 34
        },
        "outputId": "6cc7be35-8eb6-49b1-9b89-a29fb3a23580",
        "executionInfo": {
          "status": "ok",
          "timestamp": 1502551302348,
          "user_tz": -60,
          "elapsed": 59,
          "user": {
            "displayName": "Stephan Gouws",
            "photoUrl": "//lh4.googleusercontent.com/-6znVyM1oxdg/AAAAAAAAAAI/AAAAAAAAABI/vEPo2Ce7Rpc/s50-c-k-no/photo.jpg",
            "userId": "102606466886131565871"
          }
        }
      },
      "source": [
        "nums = [0, 1, 2, 3, 4]\n",
        "squares = [x ** 2 for x in nums]\n",
        "print squares"
      ],
      "cell_type": "code",
      "execution_count": 18,
      "outputs": [
        {
          "output_type": "stream",
          "text": [
            "[0, 1, 4, 9, 16]\n"
          ],
          "name": "stdout"
        }
      ]
    },
    {
      "metadata": {
        "id": "2r-xDQrV5q3p",
        "colab_type": "text"
      },
      "source": [
        "List comprehensions can also contain conditions:"
      ],
      "cell_type": "markdown"
    },
    {
      "metadata": {
        "id": "FuceJKWp5q3q",
        "colab_type": "code",
        "colab": {
          "autoexec": {
            "startup": false,
            "wait_interval": 0
          },
          "output_extras": [
            {}
          ]
        },
        "outputId": "dc760f51-bd13-45f4-b0cd-c1bddf9a1b79"
      },
      "source": [
        "nums = [0, 1, 2, 3, 4]\n",
        "even_squares = [x ** 2 for x in nums if x % 2 == 0]\n",
        "print even_squares"
      ],
      "cell_type": "code",
      "execution_count": 0,
      "outputs": [
        {
          "output_type": "stream",
          "text": [
            "[0, 4, 16]\n"
          ],
          "name": "stdout"
        }
      ]
    },
    {
      "metadata": {
        "id": "Zn9lPGuA5q3t",
        "colab_type": "text"
      },
      "source": [
        "####Dictionaries"
      ],
      "cell_type": "markdown"
    },
    {
      "metadata": {
        "id": "qR4dwMJ15q3t",
        "colab_type": "text"
      },
      "source": [
        "A dictionary stores (key, value) pairs, similar to a `Map` in Java or an object in Javascript. You can use it like this:"
      ],
      "cell_type": "markdown"
    },
    {
      "metadata": {
        "id": "XSqsRxER5q3u",
        "colab_type": "code",
        "colab": {
          "autoexec": {
            "startup": false,
            "wait_interval": 0
          },
          "output_extras": [
            {}
          ]
        },
        "outputId": "bcab0586-469a-4c97-d2c3-9f6d483ff131"
      },
      "source": [
        "d = {'cat': 'cute', 'dog': 'furry'}  # Create a new dictionary with some data\n",
        "print d['cat']       # Get an entry from a dictionary; prints \"cute\"\n",
        "print 'cat' in d     # Check if a dictionary has a given key; prints \"True\""
      ],
      "cell_type": "code",
      "execution_count": 0,
      "outputs": [
        {
          "output_type": "stream",
          "text": [
            "cute\n",
            "True\n"
          ],
          "name": "stdout"
        }
      ]
    },
    {
      "metadata": {
        "id": "6-fyFvpe5q3w",
        "colab_type": "code",
        "colab": {
          "autoexec": {
            "startup": false,
            "wait_interval": 0
          },
          "output_extras": [
            {}
          ]
        },
        "outputId": "28069c44-4dae-439a-8837-805256b28817"
      },
      "source": [
        "d['fish'] = 'wet'    # Set an entry in a dictionary\n",
        "print d['fish']      # Prints \"wet\""
      ],
      "cell_type": "code",
      "execution_count": 0,
      "outputs": [
        {
          "output_type": "stream",
          "text": [
            "wet\n"
          ],
          "name": "stdout"
        }
      ]
    },
    {
      "metadata": {
        "id": "cqFipdSW5q3z",
        "colab_type": "code",
        "colab": {
          "autoexec": {
            "startup": false,
            "wait_interval": 0
          },
          "output_extras": [
            {}
          ]
        },
        "outputId": "9a3b1dfc-8b79-4697-d149-27eada40d6b0"
      },
      "source": [
        "print d['monkey']  # KeyError: 'monkey' not a key of d"
      ],
      "cell_type": "code",
      "execution_count": 0,
      "outputs": [
        {
          "output_type": "error",
          "ename": "KeyError",
          "evalue": "'monkey'",
          "traceback": [
            "\u001b[0;31m---------------------------------------------------------------------------\u001b[0m\n\u001b[0;31mKeyError\u001b[0m                                  Traceback (most recent call last)",
            "\u001b[0;32m<ipython-input-161-85f0c5ba0fa7>\u001b[0m in \u001b[0;36m<module>\u001b[0;34m()\u001b[0m\n\u001b[0;32m----> 1\u001b[0;31m \u001b[0;32mprint\u001b[0m \u001b[0md\u001b[0m\u001b[0;34m[\u001b[0m\u001b[0;34m'monkey'\u001b[0m\u001b[0;34m]\u001b[0m  \u001b[0;31m# KeyError: 'monkey' not a key of d\u001b[0m\u001b[0;34m\u001b[0m\u001b[0m\n\u001b[0m",
            "\u001b[0;31mKeyError\u001b[0m: 'monkey'"
          ]
        }
      ]
    },
    {
      "metadata": {
        "id": "mqwjq1JB5q32",
        "colab_type": "code",
        "colab": {
          "autoexec": {
            "startup": false,
            "wait_interval": 0
          },
          "output_extras": [
            {}
          ]
        },
        "outputId": "aac4ac32-9521-4ec4-966f-62d6239014c2"
      },
      "source": [
        "print d.get('monkey', 'N/A')  # Get an element with a default; prints \"N/A\"\n",
        "print d.get('fish', 'N/A')    # Get an element with a default; prints \"wet\""
      ],
      "cell_type": "code",
      "execution_count": 0,
      "outputs": [
        {
          "output_type": "stream",
          "text": [
            "N/A\n",
            "wet\n"
          ],
          "name": "stdout"
        }
      ]
    },
    {
      "metadata": {
        "id": "JSBfW9cM5q35",
        "colab_type": "code",
        "colab": {
          "autoexec": {
            "startup": false,
            "wait_interval": 0
          },
          "output_extras": [
            {}
          ]
        },
        "outputId": "0c43c504-fb74-4b9c-e5fa-8dcd6dc66326"
      },
      "source": [
        "del d['fish']        # Remove an element from a dictionary\n",
        "print d.get('fish', 'N/A') # \"fish\" is no longer a key; prints \"N/A\""
      ],
      "cell_type": "code",
      "execution_count": 0,
      "outputs": [
        {
          "output_type": "stream",
          "text": [
            "N/A\n"
          ],
          "name": "stdout"
        }
      ]
    },
    {
      "metadata": {
        "id": "pJKwvNbN5q3-",
        "colab_type": "text"
      },
      "source": [
        "You can find all you need to know about dictionaries in the [documentation](https://docs.python.org/2/library/stdtypes.html#dict)."
      ],
      "cell_type": "markdown"
    },
    {
      "metadata": {
        "id": "39GhDg_S5q3_",
        "colab_type": "text"
      },
      "source": [
        "It is easy to iterate over the keys in a dictionary:"
      ],
      "cell_type": "markdown"
    },
    {
      "metadata": {
        "id": "AGUsSd285q4A",
        "colab_type": "code",
        "colab": {
          "autoexec": {
            "startup": false,
            "wait_interval": 0
          },
          "output_extras": [
            {
              "item_id": 1
            }
          ],
          "height": 68
        },
        "outputId": "554b248b-61e8-4830-9114-011e6f391d56",
        "executionInfo": {
          "status": "ok",
          "timestamp": 1502551333040,
          "user_tz": -60,
          "elapsed": 308,
          "user": {
            "displayName": "Stephan Gouws",
            "photoUrl": "//lh4.googleusercontent.com/-6znVyM1oxdg/AAAAAAAAAAI/AAAAAAAAABI/vEPo2Ce7Rpc/s50-c-k-no/photo.jpg",
            "userId": "102606466886131565871"
          }
        }
      },
      "source": [
        "d = {'person': 2, 'cat': 4, 'spider': 8}\n",
        "for animal in d:\n",
        "    legs = d[animal]\n",
        "    print 'A %s has %d legs' % (animal, legs)"
      ],
      "cell_type": "code",
      "execution_count": 19,
      "outputs": [
        {
          "output_type": "stream",
          "text": [
            "A person has 2 legs\n",
            "A spider has 8 legs\n",
            "A cat has 4 legs\n"
          ],
          "name": "stdout"
        }
      ]
    },
    {
      "metadata": {
        "id": "USWlJ1Uh5q4D",
        "colab_type": "text"
      },
      "source": [
        "If you want access to keys and their corresponding values, use the iteritems method:"
      ],
      "cell_type": "markdown"
    },
    {
      "metadata": {
        "id": "ksXilYJx5q4E",
        "colab_type": "code",
        "colab": {
          "autoexec": {
            "startup": false,
            "wait_interval": 0
          },
          "output_extras": [
            {
              "item_id": 1
            }
          ],
          "height": 68
        },
        "outputId": "64f4077c-5dfb-46fc-f656-1e2d56196d64",
        "executionInfo": {
          "status": "ok",
          "timestamp": 1502551334737,
          "user_tz": -60,
          "elapsed": 61,
          "user": {
            "displayName": "Stephan Gouws",
            "photoUrl": "//lh4.googleusercontent.com/-6znVyM1oxdg/AAAAAAAAAAI/AAAAAAAAABI/vEPo2Ce7Rpc/s50-c-k-no/photo.jpg",
            "userId": "102606466886131565871"
          }
        }
      },
      "source": [
        "d = {'person': 2, 'cat': 4, 'spider': 8}\n",
        "for animal, legs in d.iteritems():\n",
        "    print 'A %s has %d legs' % (animal, legs)"
      ],
      "cell_type": "code",
      "execution_count": 20,
      "outputs": [
        {
          "output_type": "stream",
          "text": [
            "A person has 2 legs\n",
            "A spider has 8 legs\n",
            "A cat has 4 legs\n"
          ],
          "name": "stdout"
        }
      ]
    },
    {
      "metadata": {
        "id": "41-CY-Pz5q4G",
        "colab_type": "text"
      },
      "source": [
        "Dictionary comprehensions: These are similar to list comprehensions, but allow you to easily construct dictionaries. For example:"
      ],
      "cell_type": "markdown"
    },
    {
      "metadata": {
        "id": "BrEgZHHq5q4I",
        "colab_type": "code",
        "colab": {
          "autoexec": {
            "startup": false,
            "wait_interval": 0
          },
          "output_extras": [
            {}
          ]
        },
        "outputId": "474345ad-6fde-4c26-f8b5-a1ad9cded27c"
      },
      "source": [
        "nums = [0, 1, 2, 3, 4]\n",
        "even_num_to_square = {x: x ** 2 for x in nums if x % 2 == 0}\n",
        "print even_num_to_square"
      ],
      "cell_type": "code",
      "execution_count": 0,
      "outputs": [
        {
          "output_type": "stream",
          "text": [
            "{0: 0, 2: 4, 4: 16}\n"
          ],
          "name": "stdout"
        }
      ]
    },
    {
      "metadata": {
        "id": "tDD47vMB5q4L",
        "colab_type": "text"
      },
      "source": [
        "####Sets"
      ],
      "cell_type": "markdown"
    },
    {
      "metadata": {
        "id": "GA8eU1aU5q4M",
        "colab_type": "text"
      },
      "source": [
        "A set is an unordered collection of distinct elements. As a simple example, consider the following:"
      ],
      "cell_type": "markdown"
    },
    {
      "metadata": {
        "id": "bqrfOvL85q4O",
        "colab_type": "code",
        "colab": {
          "autoexec": {
            "startup": false,
            "wait_interval": 0
          },
          "output_extras": [
            {}
          ]
        },
        "outputId": "327a4723-4e83-4544-adfa-e868b0a03e57"
      },
      "source": [
        "animals = {'cat', 'dog'}\n",
        "print 'cat' in animals   # Check if an element is in a set; prints \"True\"\n",
        "print 'fish' in animals  # prints \"False\"\n"
      ],
      "cell_type": "code",
      "execution_count": 0,
      "outputs": [
        {
          "output_type": "stream",
          "text": [
            "True\n",
            "False\n"
          ],
          "name": "stdout"
        }
      ]
    },
    {
      "metadata": {
        "id": "iBoumJBc5q4S",
        "colab_type": "code",
        "colab": {
          "autoexec": {
            "startup": false,
            "wait_interval": 0
          },
          "output_extras": [
            {}
          ]
        },
        "outputId": "5f874a16-56e9-4239-f682-00f6ca9f368b"
      },
      "source": [
        "animals.add('fish')      # Add an element to a set\n",
        "print 'fish' in animals\n",
        "print len(animals)       # Number of elements in a set;"
      ],
      "cell_type": "code",
      "execution_count": 0,
      "outputs": [
        {
          "output_type": "stream",
          "text": [
            "True\n",
            "3\n"
          ],
          "name": "stdout"
        }
      ]
    },
    {
      "metadata": {
        "id": "4WOQYagQ5q4W",
        "colab_type": "code",
        "colab": {
          "autoexec": {
            "startup": false,
            "wait_interval": 0
          },
          "output_extras": [
            {}
          ]
        },
        "outputId": "183a3c33-e2cd-45b9-f99e-5d0fc8382c24"
      },
      "source": [
        "animals.add('cat')       # Adding an element that is already in the set does nothing\n",
        "print len(animals)       \n",
        "animals.remove('cat')    # Remove an element from a set\n",
        "print len(animals)       "
      ],
      "cell_type": "code",
      "execution_count": 0,
      "outputs": [
        {
          "output_type": "stream",
          "text": [
            "3\n",
            "2\n"
          ],
          "name": "stdout"
        }
      ]
    },
    {
      "metadata": {
        "id": "hq0u2OQT5q4b",
        "colab_type": "text"
      },
      "source": [
        "_Loops_: Iterating over a set has the same syntax as iterating over a list; however since sets are unordered, you cannot make assumptions about the order in which you visit the elements of the set:"
      ],
      "cell_type": "markdown"
    },
    {
      "metadata": {
        "id": "0UFyLDm55q4c",
        "colab_type": "code",
        "colab": {
          "autoexec": {
            "startup": false,
            "wait_interval": 0
          },
          "output_extras": [
            {}
          ]
        },
        "outputId": "3b74de84-ed75-4d6f-8cc2-379b4bd5011a"
      },
      "source": [
        "animals = {'cat', 'dog', 'fish'}\n",
        "for idx, animal in enumerate(animals):\n",
        "    print '#%d: %s' % (idx + 1, animal)\n",
        "# Prints \"#1: fish\", \"#2: dog\", \"#3: cat\""
      ],
      "cell_type": "code",
      "execution_count": 0,
      "outputs": [
        {
          "output_type": "stream",
          "text": [
            "#1: fish\n",
            "#2: dog\n",
            "#3: cat\n"
          ],
          "name": "stdout"
        }
      ]
    },
    {
      "metadata": {
        "id": "27txGVy95q4g",
        "colab_type": "text"
      },
      "source": [
        "Set comprehensions: Like lists and dictionaries, we can easily construct sets using set comprehensions:"
      ],
      "cell_type": "markdown"
    },
    {
      "metadata": {
        "id": "Z8HkXcfM5q4h",
        "colab_type": "code",
        "colab": {
          "autoexec": {
            "startup": false,
            "wait_interval": 0
          },
          "output_extras": [
            {}
          ]
        },
        "outputId": "1e7dfb1f-0da2-47b6-946e-d7833ea20c78"
      },
      "source": [
        "from math import sqrt\n",
        "print {int(sqrt(x)) for x in range(30)}"
      ],
      "cell_type": "code",
      "execution_count": 0,
      "outputs": [
        {
          "output_type": "stream",
          "text": [
            "set([0, 1, 2, 3, 4, 5])\n"
          ],
          "name": "stdout"
        }
      ]
    },
    {
      "metadata": {
        "id": "fL0UctlO5q4j",
        "colab_type": "text"
      },
      "source": [
        "####Tuples"
      ],
      "cell_type": "markdown"
    },
    {
      "metadata": {
        "id": "iezj80Mu5q4j",
        "colab_type": "text"
      },
      "source": [
        "A tuple is an (immutable) ordered list of values. A tuple is in many ways similar to a list; one of the most important differences is that tuples can be used as keys in dictionaries and as elements of sets, while lists cannot. Here is a trivial example:"
      ],
      "cell_type": "markdown"
    },
    {
      "metadata": {
        "id": "mdEyq1hC5q4k",
        "colab_type": "code",
        "colab": {
          "autoexec": {
            "startup": false,
            "wait_interval": 0
          },
          "output_extras": [
            {}
          ]
        },
        "outputId": "b3079581-df6f-4bea-f5e3-cf95e3fd9f4e"
      },
      "source": [
        "d = {(x, x + 1): x for x in range(10)}  # Create a dictionary with tuple keys\n",
        "t = (5, 6)       # Create a tuple\n",
        "print type(t)\n",
        "print d[t]       \n",
        "print d[(1, 2)]"
      ],
      "cell_type": "code",
      "execution_count": 0,
      "outputs": [
        {
          "output_type": "stream",
          "text": [
            "<type 'tuple'>\n",
            "5\n",
            "1\n"
          ],
          "name": "stdout"
        }
      ]
    },
    {
      "metadata": {
        "id": "QTbRg_s75q4n",
        "colab_type": "code",
        "colab": {
          "autoexec": {
            "startup": false,
            "wait_interval": 0
          },
          "output_extras": [
            {}
          ]
        },
        "outputId": "ad42defd-a164-4551-f76b-16e5f0f0fb0a"
      },
      "source": [
        "t[0] = 1"
      ],
      "cell_type": "code",
      "execution_count": 0,
      "outputs": [
        {
          "output_type": "error",
          "ename": "TypeError",
          "evalue": "'tuple' object does not support item assignment",
          "traceback": [
            "\u001b[0;31m---------------------------------------------------------------------------\u001b[0m\n\u001b[0;31mTypeError\u001b[0m                                 Traceback (most recent call last)",
            "\u001b[0;32m<ipython-input-176-0a69537257d5>\u001b[0m in \u001b[0;36m<module>\u001b[0;34m()\u001b[0m\n\u001b[0;32m----> 1\u001b[0;31m \u001b[0mt\u001b[0m\u001b[0;34m[\u001b[0m\u001b[0;36m0\u001b[0m\u001b[0;34m]\u001b[0m \u001b[0;34m=\u001b[0m \u001b[0;36m1\u001b[0m\u001b[0;34m\u001b[0m\u001b[0m\n\u001b[0m",
            "\u001b[0;31mTypeError\u001b[0m: 'tuple' object does not support item assignment"
          ]
        }
      ]
    },
    {
      "metadata": {
        "id": "w1VXSG2s5q4q",
        "colab_type": "text"
      },
      "source": [
        "###Functions"
      ],
      "cell_type": "markdown"
    },
    {
      "metadata": {
        "id": "-4lAKLDY5q4r",
        "colab_type": "text"
      },
      "source": [
        "Python functions are defined using the `def` keyword. For example:"
      ],
      "cell_type": "markdown"
    },
    {
      "metadata": {
        "id": "oysjtHVh5q4s",
        "colab_type": "code",
        "colab": {
          "autoexec": {
            "startup": false,
            "wait_interval": 0
          },
          "output_extras": [
            {}
          ]
        },
        "outputId": "fac7a4a8-739e-455a-e52b-59e247f63442"
      },
      "source": [
        "def sign(x):\n",
        "    if x > 0:\n",
        "        return 'positive'\n",
        "    elif x < 0:\n",
        "        return 'negative'\n",
        "    else:\n",
        "        return 'zero'\n",
        "\n",
        "for x in [-1, 0, 1]:\n",
        "    print sign(x)"
      ],
      "cell_type": "code",
      "execution_count": 0,
      "outputs": [
        {
          "output_type": "stream",
          "text": [
            "negative\n",
            "zero\n",
            "positive\n"
          ],
          "name": "stdout"
        }
      ]
    },
    {
      "metadata": {
        "id": "YhQkNfyd5q4x",
        "colab_type": "text"
      },
      "source": [
        "We will often define functions to take optional keyword arguments, like this:"
      ],
      "cell_type": "markdown"
    },
    {
      "metadata": {
        "id": "TH04kWxK5q4y",
        "colab_type": "code",
        "colab": {
          "autoexec": {
            "startup": false,
            "wait_interval": 0
          },
          "output_extras": [
            {}
          ]
        },
        "outputId": "d80cb04f-2764-48b5-aedb-0b6585296166"
      },
      "source": [
        "def hello(name, loud=False):\n",
        "    if loud:\n",
        "        print 'HELLO, %s' % name.upper()\n",
        "    else:\n",
        "        print 'Hello, %s!' % name\n",
        "\n",
        "hello('Bob')\n",
        "hello('Fred', loud=True)"
      ],
      "cell_type": "code",
      "execution_count": 0,
      "outputs": [
        {
          "output_type": "stream",
          "text": [
            "Hello, Bob!\n",
            "HELLO, FRED\n"
          ],
          "name": "stdout"
        }
      ]
    },
    {
      "metadata": {
        "id": "qvrL6-14JgG1",
        "colab_type": "text"
      },
      "source": [
        ""
      ],
      "cell_type": "markdown"
    },
    {
      "metadata": {
        "id": "Xvw1X4q25q42",
        "colab_type": "text"
      },
      "source": [
        "###Classes"
      ],
      "cell_type": "markdown"
    },
    {
      "metadata": {
        "id": "5ungbMSi5q42",
        "colab_type": "text"
      },
      "source": [
        "The syntax for defining classes in Python is straightforward:"
      ],
      "cell_type": "markdown"
    },
    {
      "metadata": {
        "id": "P6H_HlXX5q42",
        "colab_type": "code",
        "colab": {
          "autoexec": {
            "startup": false,
            "wait_interval": 0
          },
          "output_extras": [
            {}
          ]
        },
        "outputId": "f16ea9c2-9605-4a0a-a913-d65253306f81"
      },
      "source": [
        "class Greeter:\n",
        "\n",
        "    # Constructor\n",
        "    def __init__(self, name):\n",
        "        self.name = name  # Create an instance variable\n",
        "\n",
        "    # Instance method\n",
        "    def greet(self, loud=False):\n",
        "        if loud:\n",
        "            print 'HELLO, %s!' % self.name.upper()\n",
        "        else:\n",
        "            print 'Hello, %s' % self.name\n",
        "\n",
        "g = Greeter('Fred')  # Construct an instance of the Greeter class\n",
        "g.greet()            # Call an instance method; prints \"Hello, Fred\"\n",
        "g.greet(loud=True)   # Call an instance method; prints \"HELLO, FRED!\""
      ],
      "cell_type": "code",
      "execution_count": 0,
      "outputs": [
        {
          "output_type": "stream",
          "text": [
            "Hello, Fred\n",
            "HELLO, FRED!\n"
          ],
          "name": "stdout"
        }
      ]
    },
    {
      "metadata": {
        "id": "HC8PPoa55q44",
        "colab_type": "text"
      },
      "source": [
        "##Numpy"
      ],
      "cell_type": "markdown"
    },
    {
      "metadata": {
        "id": "icQHJIvK5q45",
        "colab_type": "text"
      },
      "source": [
        "Numpy is the core library for scientific computing in Python (see the full documentation which is [available online](https://docs.scipy.org/doc/numpy-1.13.0/reference/)). It provides a high-performance multidimensional array object, and tools for working with these arrays. If you are already familiar with MATLAB, you might find this [tutorial](http://wiki.scipy.org/NumPy_for_Matlab_Users) useful to get started with Numpy."
      ],
      "cell_type": "markdown"
    },
    {
      "metadata": {
        "id": "PNXqmeC45q46",
        "colab_type": "text"
      },
      "source": [
        "To use Numpy, we first need to import the `numpy` package:"
      ],
      "cell_type": "markdown"
    },
    {
      "metadata": {
        "id": "nwFkFb_d5q47",
        "colab_type": "code",
        "colab": {
          "autoexec": {
            "startup": false,
            "wait_interval": 0
          }
        }
      },
      "source": [
        "import numpy as np"
      ],
      "cell_type": "code",
      "execution_count": 0,
      "outputs": []
    },
    {
      "metadata": {
        "id": "oEMc8JJP5q4-",
        "colab_type": "text"
      },
      "source": [
        "###Arrays"
      ],
      "cell_type": "markdown"
    },
    {
      "metadata": {
        "id": "qY5T4B_55q4_",
        "colab_type": "text"
      },
      "source": [
        "A numpy array is a grid of values, all of the same type, and is indexed by a tuple of nonnegative integers. The number of dimensions is the rank of the array; the shape of an array is a tuple of integers giving the size of the array along each dimension."
      ],
      "cell_type": "markdown"
    },
    {
      "metadata": {
        "id": "ujIKsN7n5q4_",
        "colab_type": "text"
      },
      "source": [
        "We can initialize numpy arrays from nested Python lists, and access elements using square brackets:"
      ],
      "cell_type": "markdown"
    },
    {
      "metadata": {
        "id": "2T4S0Y8_5q5A",
        "colab_type": "code",
        "colab": {
          "autoexec": {
            "startup": false,
            "wait_interval": 0
          },
          "output_extras": [
            {
              "item_id": 1
            }
          ],
          "height": 51
        },
        "outputId": "76f9f55a-ff6c-47a9-b21c-58b1d86a4b75",
        "executionInfo": {
          "status": "ok",
          "timestamp": 1503332502800,
          "user_tz": -60,
          "elapsed": 206,
          "user": {
            "displayName": "Ulrich Paquet",
            "photoUrl": "//lh3.googleusercontent.com/-q3A91HQu7t8/AAAAAAAAAAI/AAAAAAAAAAw/O3bjgikw0xQ/s50-c-k-no/photo.jpg",
            "userId": "117228953648657363788"
          }
        }
      },
      "source": [
        "a = np.array([1, 2, 3])  # Create a rank 1 array\n",
        "print type(a), a.shape, a[0], a[1], a[2]\n",
        "a[0] = 5                 # Change an element of the array\n",
        "print a                  "
      ],
      "cell_type": "code",
      "execution_count": 4,
      "outputs": [
        {
          "output_type": "stream",
          "text": [
            "<type 'numpy.ndarray'> (3,) 1 2 3\n",
            "[5 2 3]\n"
          ],
          "name": "stdout"
        }
      ]
    },
    {
      "metadata": {
        "id": "Cxp0IQI_5q5D",
        "colab_type": "code",
        "colab": {
          "autoexec": {
            "startup": false,
            "wait_interval": 0
          },
          "output_extras": [
            {
              "item_id": 1
            }
          ],
          "height": 51
        },
        "outputId": "2be5b51f-0808-414b-dc2a-140b08dac7f7",
        "executionInfo": {
          "status": "ok",
          "timestamp": 1503332505924,
          "user_tz": -60,
          "elapsed": 147,
          "user": {
            "displayName": "Ulrich Paquet",
            "photoUrl": "//lh3.googleusercontent.com/-q3A91HQu7t8/AAAAAAAAAAI/AAAAAAAAAAw/O3bjgikw0xQ/s50-c-k-no/photo.jpg",
            "userId": "117228953648657363788"
          }
        }
      },
      "source": [
        "b = np.array([[1,2,3],[4,5,6]])   # Create a rank 2 array\n",
        "print b"
      ],
      "cell_type": "code",
      "execution_count": 5,
      "outputs": [
        {
          "output_type": "stream",
          "text": [
            "[[1 2 3]\n",
            " [4 5 6]]\n"
          ],
          "name": "stdout"
        }
      ]
    },
    {
      "metadata": {
        "id": "NC7ntYGk5q5E",
        "colab_type": "code",
        "colab": {
          "autoexec": {
            "startup": false,
            "wait_interval": 0
          },
          "output_extras": [
            {
              "item_id": 1
            }
          ],
          "height": 51
        },
        "outputId": "336adda2-72ce-4e3f-e45e-7d54b8f29af1",
        "executionInfo": {
          "status": "ok",
          "timestamp": 1503332507905,
          "user_tz": -60,
          "elapsed": 220,
          "user": {
            "displayName": "Ulrich Paquet",
            "photoUrl": "//lh3.googleusercontent.com/-q3A91HQu7t8/AAAAAAAAAAI/AAAAAAAAAAw/O3bjgikw0xQ/s50-c-k-no/photo.jpg",
            "userId": "117228953648657363788"
          }
        }
      },
      "source": [
        "print b.shape                   \n",
        "print b[0, 0], b[0, 1], b[1, 0]"
      ],
      "cell_type": "code",
      "execution_count": 6,
      "outputs": [
        {
          "output_type": "stream",
          "text": [
            "(2, 3)\n",
            "1 2 4\n"
          ],
          "name": "stdout"
        }
      ]
    },
    {
      "metadata": {
        "id": "XVEgPUy45q5H",
        "colab_type": "text"
      },
      "source": [
        "Numpy also provides many functions to create arrays:"
      ],
      "cell_type": "markdown"
    },
    {
      "metadata": {
        "id": "J6asuT0G5q5H",
        "colab_type": "code",
        "colab": {
          "autoexec": {
            "startup": false,
            "wait_interval": 0
          },
          "output_extras": [
            {
              "item_id": 1
            }
          ],
          "height": 51
        },
        "outputId": "3efa2006-6281-4902-9e48-0d084d0bef16",
        "executionInfo": {
          "status": "ok",
          "timestamp": 1503332509999,
          "user_tz": -60,
          "elapsed": 206,
          "user": {
            "displayName": "Ulrich Paquet",
            "photoUrl": "//lh3.googleusercontent.com/-q3A91HQu7t8/AAAAAAAAAAI/AAAAAAAAAAw/O3bjgikw0xQ/s50-c-k-no/photo.jpg",
            "userId": "117228953648657363788"
          }
        }
      },
      "source": [
        "a = np.zeros((2,2))  # Create an array of all zeros\n",
        "print a"
      ],
      "cell_type": "code",
      "execution_count": 7,
      "outputs": [
        {
          "output_type": "stream",
          "text": [
            "[[ 0.  0.]\n",
            " [ 0.  0.]]\n"
          ],
          "name": "stdout"
        }
      ]
    },
    {
      "metadata": {
        "id": "No4YcRSX5q5J",
        "colab_type": "code",
        "colab": {
          "autoexec": {
            "startup": false,
            "wait_interval": 0
          },
          "output_extras": [
            {}
          ]
        },
        "outputId": "0d90b6c5-c0db-4ba8-bb2f-05040fe14778"
      },
      "source": [
        "b = np.ones((1,2))   # Create an array of all ones\n",
        "print b"
      ],
      "cell_type": "code",
      "execution_count": 0,
      "outputs": [
        {
          "output_type": "stream",
          "text": [
            "[[ 1.  1.]]\n"
          ],
          "name": "stdout"
        }
      ]
    },
    {
      "metadata": {
        "id": "arHMvOhi5q5L",
        "colab_type": "code",
        "colab": {
          "autoexec": {
            "startup": false,
            "wait_interval": 0
          },
          "output_extras": [
            {}
          ]
        },
        "outputId": "88557a75-4631-4c64-8991-c3e84964ce3d"
      },
      "source": [
        "c = np.full((2,2), 7) # Create a constant array\n",
        "print c "
      ],
      "cell_type": "code",
      "execution_count": 0,
      "outputs": [
        {
          "output_type": "stream",
          "text": [
            "[[ 7.  7.]\n",
            " [ 7.  7.]]\n"
          ],
          "name": "stdout"
        }
      ]
    },
    {
      "metadata": {
        "id": "BVuZ89NW5q5M",
        "colab_type": "code",
        "colab": {
          "autoexec": {
            "startup": false,
            "wait_interval": 0
          },
          "output_extras": [
            {}
          ]
        },
        "outputId": "3664ed50-61c7-47f8-c2d3-d6db9a2e6d9d"
      },
      "source": [
        "d = np.eye(2)        # Create a 2x2 identity matrix\n",
        "print d"
      ],
      "cell_type": "code",
      "execution_count": 0,
      "outputs": [
        {
          "output_type": "stream",
          "text": [
            "[[ 1.  0.]\n",
            " [ 0.  1.]]\n"
          ],
          "name": "stdout"
        }
      ]
    },
    {
      "metadata": {
        "id": "tY58UMFk5q5P",
        "colab_type": "code",
        "colab": {
          "autoexec": {
            "startup": false,
            "wait_interval": 0
          },
          "output_extras": [
            {}
          ]
        },
        "outputId": "44aee175-1499-464c-8452-c87884e281f5"
      },
      "source": [
        "e = np.random.random((2,2)) # Create an array filled with random values\n",
        "print e"
      ],
      "cell_type": "code",
      "execution_count": 0,
      "outputs": [
        {
          "output_type": "stream",
          "text": [
            "[[ 0.09477679  0.79267634]\n",
            " [ 0.78291274  0.38962829]]\n"
          ],
          "name": "stdout"
        }
      ]
    },
    {
      "metadata": {
        "id": "Cm1XbIVO5q5Q",
        "colab_type": "text"
      },
      "source": [
        "###Array indexing"
      ],
      "cell_type": "markdown"
    },
    {
      "metadata": {
        "id": "pPuZbM_Z5q5R",
        "colab_type": "text"
      },
      "source": [
        "Numpy offers several ways to index into arrays."
      ],
      "cell_type": "markdown"
    },
    {
      "metadata": {
        "id": "NHei_ely5q5R",
        "colab_type": "text"
      },
      "source": [
        "Slicing: Similar to Python lists, numpy arrays can be sliced. Since arrays may be multidimensional, you must specify a slice for each dimension of the array:"
      ],
      "cell_type": "markdown"
    },
    {
      "metadata": {
        "id": "CFp3nn085q5R",
        "colab_type": "code",
        "colab": {
          "autoexec": {
            "startup": false,
            "wait_interval": 0
          },
          "output_extras": [
            {}
          ]
        },
        "outputId": "2de0fb2b-d194-4888-edfb-d1966022e7d6"
      },
      "source": [
        "import numpy as np\n",
        "\n",
        "# Create the following rank 2 array with shape (3, 4)\n",
        "# [[ 1  2  3  4]\n",
        "#  [ 5  6  7  8]\n",
        "#  [ 9 10 11 12]]\n",
        "a = np.array([[1,2,3,4], [5,6,7,8], [9,10,11,12]])\n",
        "\n",
        "# Use slicing to pull out the subarray consisting of the first 2 rows\n",
        "# and columns 1 and 2; b is the following array of shape (2, 2):\n",
        "# [[2 3]\n",
        "#  [6 7]]\n",
        "b = a[:2, 1:3]\n",
        "print b"
      ],
      "cell_type": "code",
      "execution_count": 0,
      "outputs": [
        {
          "output_type": "stream",
          "text": [
            "[[2 3]\n",
            " [6 7]]\n"
          ],
          "name": "stdout"
        }
      ]
    },
    {
      "metadata": {
        "id": "21E__llI5q5T",
        "colab_type": "text"
      },
      "source": [
        "A slice of an array is a view into the same data, so modifying it will modify the original array."
      ],
      "cell_type": "markdown"
    },
    {
      "metadata": {
        "id": "5G-xCH_n5q5T",
        "colab_type": "code",
        "colab": {
          "autoexec": {
            "startup": false,
            "wait_interval": 0
          },
          "output_extras": [
            {}
          ]
        },
        "outputId": "64f62b83-f9e4-4974-ce16-2b0605d18419"
      },
      "source": [
        "print a[0, 1]  \n",
        "b[0, 0] = 77    # b[0, 0] is the same piece of data as a[0, 1]\n",
        "print a[0, 1] "
      ],
      "cell_type": "code",
      "execution_count": 0,
      "outputs": [
        {
          "output_type": "stream",
          "text": [
            "2\n",
            "77\n"
          ],
          "name": "stdout"
        }
      ]
    },
    {
      "metadata": {
        "id": "7YnhuQqw5q5V",
        "colab_type": "text"
      },
      "source": [
        "You can also mix integer indexing with slice indexing. However, doing so will yield an array of lower rank than the original array. Note that this is quite different from the way that MATLAB handles array slicing:"
      ],
      "cell_type": "markdown"
    },
    {
      "metadata": {
        "id": "P3l4gKyp5q5X",
        "colab_type": "code",
        "colab": {
          "autoexec": {
            "startup": false,
            "wait_interval": 0
          },
          "output_extras": [
            {}
          ]
        },
        "outputId": "a276352a-d370-4b43-e4d4-5dab0c6bd29a"
      },
      "source": [
        "# Create the following rank 2 array with shape (3, 4)\n",
        "a = np.array([[1,2,3,4], [5,6,7,8], [9,10,11,12]])\n",
        "print a"
      ],
      "cell_type": "code",
      "execution_count": 0,
      "outputs": [
        {
          "output_type": "stream",
          "text": [
            "[[ 1  2  3  4]\n",
            " [ 5  6  7  8]\n",
            " [ 9 10 11 12]]\n"
          ],
          "name": "stdout"
        }
      ]
    },
    {
      "metadata": {
        "id": "abW3Kruq5q5Z",
        "colab_type": "text"
      },
      "source": [
        "Two ways of accessing the data in the middle row of the array.\n",
        "Mixing integer indexing with slices yields an array of lower rank,\n",
        "while using only slices yields an array of the same rank as the\n",
        "original array:"
      ],
      "cell_type": "markdown"
    },
    {
      "metadata": {
        "id": "VtPRP0Gi5q5a",
        "colab_type": "code",
        "colab": {
          "autoexec": {
            "startup": false,
            "wait_interval": 0
          },
          "output_extras": [
            {}
          ]
        },
        "outputId": "378bfce3-9701-4a4f-fb65-6eefe8b5a31a"
      },
      "source": [
        "row_r1 = a[1, :]    # Rank 1 view of the second row of a  \n",
        "row_r2 = a[1:2, :]  # Rank 2 view of the second row of a\n",
        "row_r3 = a[[1], :]  # Rank 2 view of the second row of a\n",
        "print row_r1, row_r1.shape \n",
        "print row_r2, row_r2.shape\n",
        "print row_r3, row_r3.shape"
      ],
      "cell_type": "code",
      "execution_count": 0,
      "outputs": [
        {
          "output_type": "stream",
          "text": [
            "[ 4  5 26] (3,)\n",
            "[[ 4  5 26]] (1, 3)\n",
            "[[ 4  5 26]] (1, 3)\n"
          ],
          "name": "stdout"
        }
      ]
    },
    {
      "metadata": {
        "id": "eTCT0bct5q5c",
        "colab_type": "code",
        "colab": {
          "autoexec": {
            "startup": false,
            "wait_interval": 0
          },
          "output_extras": [
            {}
          ]
        },
        "outputId": "965a2437-d778-4653-fd56-a11eff7e9055"
      },
      "source": [
        "# We can make the same distinction when accessing columns of an array:\n",
        "col_r1 = a[:, 1]\n",
        "col_r2 = a[:, 1:2]\n",
        "print col_r1, col_r1.shape\n",
        "print\n",
        "print col_r2, col_r2.shape"
      ],
      "cell_type": "code",
      "execution_count": 0,
      "outputs": [
        {
          "output_type": "stream",
          "text": [
            "[ 2  6 10] (3,)\n",
            "\n",
            "[[ 2]\n",
            " [ 6]\n",
            " [10]] (3, 1)\n"
          ],
          "name": "stdout"
        }
      ]
    },
    {
      "metadata": {
        "id": "scGrCnbk5q5h",
        "colab_type": "text"
      },
      "source": [
        "Integer array indexing: When you index into numpy arrays using slicing, the resulting array view will always be a subarray of the original array. In contrast, integer array indexing allows you to construct arbitrary arrays using the data from another array. Here is an example:"
      ],
      "cell_type": "markdown"
    },
    {
      "metadata": {
        "id": "CcvqvKKx5q5i",
        "colab_type": "code",
        "colab": {
          "autoexec": {
            "startup": false,
            "wait_interval": 0
          },
          "output_extras": [
            {}
          ]
        },
        "outputId": "ca223eb4-aa63-4927-c2b4-2db4c39cb229"
      },
      "source": [
        "a = np.array([[1,2], [3, 4], [5, 6]])\n",
        "\n",
        "# An example of integer array indexing.\n",
        "# The returned array will have shape (3,) and \n",
        "print a[[0, 1, 2], [0, 1, 0]]\n",
        "\n",
        "# The above example of integer array indexing is equivalent to this:\n",
        "print np.array([a[0, 0], a[1, 1], a[2, 0]])"
      ],
      "cell_type": "code",
      "execution_count": 0,
      "outputs": [
        {
          "output_type": "stream",
          "text": [
            "[1 4 5]\n",
            "[1 4 5]\n"
          ],
          "name": "stdout"
        }
      ]
    },
    {
      "metadata": {
        "id": "Y4HIfrq05q5l",
        "colab_type": "code",
        "colab": {
          "autoexec": {
            "startup": false,
            "wait_interval": 0
          },
          "output_extras": [
            {}
          ]
        },
        "outputId": "606f58ae-8301-43b4-9c97-c5263de579db"
      },
      "source": [
        "# When using integer array indexing, you can reuse the same\n",
        "# element from the source array:\n",
        "print a[[0, 0], [1, 1]]\n",
        "\n",
        "# Equivalent to the previous integer array indexing example\n",
        "print np.array([a[0, 1], a[0, 1]])"
      ],
      "cell_type": "code",
      "execution_count": 0,
      "outputs": [
        {
          "output_type": "stream",
          "text": [
            "[2 2]\n",
            "[2 2]\n"
          ],
          "name": "stdout"
        }
      ]
    },
    {
      "metadata": {
        "id": "7p8DhBFQ5q5q",
        "colab_type": "text"
      },
      "source": [
        "One useful trick with integer array indexing is selecting or mutating one element from each row of a matrix:"
      ],
      "cell_type": "markdown"
    },
    {
      "metadata": {
        "id": "d8AJ849O5q5r",
        "colab_type": "code",
        "colab": {
          "autoexec": {
            "startup": false,
            "wait_interval": 0
          },
          "output_extras": [
            {}
          ]
        },
        "outputId": "dc9c93f1-671d-4c0d-8716-01c2562958fc"
      },
      "source": [
        "# Create a new array from which we will select elements\n",
        "a = np.array([[1,2,3], [4,5,6], [7,8,9], [10, 11, 12]])\n",
        "print a"
      ],
      "cell_type": "code",
      "execution_count": 0,
      "outputs": [
        {
          "output_type": "stream",
          "text": [
            "[[ 1  2  3]\n",
            " [ 4  5  6]\n",
            " [ 7  8  9]\n",
            " [10 11 12]]\n"
          ],
          "name": "stdout"
        }
      ]
    },
    {
      "metadata": {
        "id": "QnezokHy5q5s",
        "colab_type": "code",
        "colab": {
          "autoexec": {
            "startup": false,
            "wait_interval": 0
          },
          "output_extras": [
            {}
          ]
        },
        "outputId": "404b9f56-99aa-4273-b3ac-4046af52a9de"
      },
      "source": [
        "# Create an array of indices\n",
        "b = np.array([0, 2, 0, 1])\n",
        "\n",
        "# Select one element from each row of a using the indices in b\n",
        "print a[np.arange(4), b]  # Prints \"[ 1  6  7 11]\""
      ],
      "cell_type": "code",
      "execution_count": 0,
      "outputs": [
        {
          "output_type": "stream",
          "text": [
            "[ 1  6  7 11]\n"
          ],
          "name": "stdout"
        }
      ]
    },
    {
      "metadata": {
        "id": "_iXO2tyM5q5u",
        "colab_type": "code",
        "colab": {
          "autoexec": {
            "startup": false,
            "wait_interval": 0
          },
          "output_extras": [
            {}
          ]
        },
        "outputId": "fed87692-a7f8-4e22-e10d-111e1e80aa25"
      },
      "source": [
        "# Mutate one element from each row of a using the indices in b\n",
        "a[np.arange(4), b] += 10\n",
        "print a"
      ],
      "cell_type": "code",
      "execution_count": 0,
      "outputs": [
        {
          "output_type": "stream",
          "text": [
            "[[11  2  3]\n",
            " [ 4  5 16]\n",
            " [17  8  9]\n",
            " [10 21 12]]\n"
          ],
          "name": "stdout"
        }
      ]
    },
    {
      "metadata": {
        "id": "LkKSUFId5q5x",
        "colab_type": "text"
      },
      "source": [
        "Boolean array indexing: Boolean array indexing lets you pick out arbitrary elements of an array. Frequently this type of indexing is used to select the elements of an array that satisfy some condition. Here is an example:"
      ],
      "cell_type": "markdown"
    },
    {
      "metadata": {
        "id": "Z8SEDQTu5q5x",
        "colab_type": "code",
        "colab": {
          "autoexec": {
            "startup": false,
            "wait_interval": 0
          },
          "output_extras": [
            {}
          ]
        },
        "outputId": "6a304951-a131-4a9a-ca2b-e1208fd4d8c0"
      },
      "source": [
        "import numpy as np\n",
        "\n",
        "a = np.array([[1,2], [3, 4], [5, 6]])\n",
        "\n",
        "bool_idx = (a > 2)  # Find the elements of a that are bigger than 2;\n",
        "                    # this returns a numpy array of Booleans of the same\n",
        "                    # shape as a, where each slot of bool_idx tells\n",
        "                    # whether that element of a is > 2.\n",
        "\n",
        "print bool_idx"
      ],
      "cell_type": "code",
      "execution_count": 0,
      "outputs": [
        {
          "output_type": "stream",
          "text": [
            "[[False False]\n",
            " [ True  True]\n",
            " [ True  True]]\n"
          ],
          "name": "stdout"
        }
      ]
    },
    {
      "metadata": {
        "id": "rRvDJXN25q5z",
        "colab_type": "code",
        "colab": {
          "autoexec": {
            "startup": false,
            "wait_interval": 0
          },
          "output_extras": [
            {}
          ]
        },
        "outputId": "620f0ee9-af1b-433d-ff7e-2d513f055ca9"
      },
      "source": [
        "# We use boolean array indexing to construct a rank 1 array\n",
        "# consisting of the elements of a corresponding to the True values\n",
        "# of bool_idx\n",
        "print a[bool_idx]\n",
        "\n",
        "# We can do all of the above in a single concise statement:\n",
        "print a[a > 2]"
      ],
      "cell_type": "code",
      "execution_count": 0,
      "outputs": [
        {
          "output_type": "stream",
          "text": [
            "[3 4 5 6]\n",
            "[3 4 5 6]\n"
          ],
          "name": "stdout"
        }
      ]
    },
    {
      "metadata": {
        "id": "enaYXsPT5q51",
        "colab_type": "text"
      },
      "source": [
        "For brevity we have left out a lot of details about numpy array indexing; if you want to know more you should read the documentation."
      ],
      "cell_type": "markdown"
    },
    {
      "metadata": {
        "id": "Xp-dmhK55q51",
        "colab_type": "text"
      },
      "source": [
        "###Datatypes"
      ],
      "cell_type": "markdown"
    },
    {
      "metadata": {
        "id": "I1iAVr005q51",
        "colab_type": "text"
      },
      "source": [
        "Every numpy array is a grid of elements of the same type. Numpy provides a large set of numeric datatypes that you can use to construct arrays. Numpy tries to guess a datatype when you create an array, but functions that construct arrays usually also include an optional argument to explicitly specify the datatype. Here is an example:"
      ],
      "cell_type": "markdown"
    },
    {
      "metadata": {
        "id": "Jhc1qiWe5q52",
        "colab_type": "code",
        "colab": {
          "autoexec": {
            "startup": false,
            "wait_interval": 0
          },
          "output_extras": [
            {}
          ]
        },
        "outputId": "ee147bc7-5cea-4443-9edf-ca537e1e08ff"
      },
      "source": [
        "x = np.array([1, 2])  # Let numpy choose the datatype\n",
        "y = np.array([1.0, 2.0])  # Let numpy choose the datatype\n",
        "z = np.array([1, 2], dtype=np.int64)  # Force a particular datatype\n",
        "\n",
        "print x.dtype, y.dtype, z.dtype"
      ],
      "cell_type": "code",
      "execution_count": 0,
      "outputs": [
        {
          "output_type": "stream",
          "text": [
            "int64 float64 int64\n"
          ],
          "name": "stdout"
        }
      ]
    },
    {
      "metadata": {
        "id": "dwsQbnfH5q53",
        "colab_type": "text"
      },
      "source": [
        "You can read all about numpy datatypes in the [documentation](http://docs.scipy.org/doc/numpy/reference/arrays.dtypes.html)."
      ],
      "cell_type": "markdown"
    },
    {
      "metadata": {
        "id": "J0krzpaq5q54",
        "colab_type": "text"
      },
      "source": [
        "###Array math"
      ],
      "cell_type": "markdown"
    },
    {
      "metadata": {
        "id": "MB1QONDf5q54",
        "colab_type": "text"
      },
      "source": [
        "Basic mathematical functions operate elementwise on arrays, and are available both as operator overloads and as functions in the numpy module:"
      ],
      "cell_type": "markdown"
    },
    {
      "metadata": {
        "id": "pqsjtRiM5q54",
        "colab_type": "code",
        "colab": {
          "autoexec": {
            "startup": false,
            "wait_interval": 0
          },
          "output_extras": [
            {
              "item_id": 1
            }
          ],
          "height": 85
        },
        "outputId": "fe4d686b-23f9-46d1-a21e-02d13f76c545",
        "executionInfo": {
          "status": "ok",
          "timestamp": 1504197424587,
          "user_tz": -60,
          "elapsed": 186,
          "user": {
            "displayName": "Avishkar Bhoopchand",
            "photoUrl": "//lh5.googleusercontent.com/-OainnMWSi6A/AAAAAAAAAAI/AAAAAAAAAOQ/eI7Z19q5v7E/s50-c-k-no/photo.jpg",
            "userId": "105781587643595215149"
          }
        }
      },
      "source": [
        "x = np.array([[1,2],[3,4]], dtype=np.float64)\n",
        "y = np.array([[5,6],[7,8]], dtype=np.float64)\n",
        "\n",
        "# Elementwise sum; both produce the array\n",
        "print x + y\n",
        "print np.add(x, y)"
      ],
      "cell_type": "code",
      "execution_count": 2,
      "outputs": [
        {
          "output_type": "stream",
          "text": [
            "[[  6.   8.]\n",
            " [ 10.  12.]]\n",
            "[[  6.   8.]\n",
            " [ 10.  12.]]\n"
          ],
          "name": "stdout"
        }
      ]
    },
    {
      "metadata": {
        "id": "8lUHQNVL5q58",
        "colab_type": "code",
        "colab": {
          "autoexec": {
            "startup": false,
            "wait_interval": 0
          },
          "output_extras": [
            {}
          ]
        },
        "outputId": "a4aa82f3-8368-46f3-a596-3ba06d2c3493"
      },
      "source": [
        "# Elementwise difference; both produce the array\n",
        "print x - y\n",
        "print np.subtract(x, y)"
      ],
      "cell_type": "code",
      "execution_count": 0,
      "outputs": [
        {
          "output_type": "stream",
          "text": [
            "[[-4. -4.]\n",
            " [-4. -4.]]\n",
            "[[-4. -4.]\n",
            " [-4. -4.]]\n"
          ],
          "name": "stdout"
        }
      ]
    },
    {
      "metadata": {
        "id": "IC8ctFQk5q59",
        "colab_type": "code",
        "colab": {
          "autoexec": {
            "startup": false,
            "wait_interval": 0
          },
          "output_extras": [
            {}
          ]
        },
        "outputId": "c1c63472-35b2-4fe1-eb46-8d16f86f5ffb"
      },
      "source": [
        "# Elementwise product; both produce the array\n",
        "print x * y\n",
        "print np.multiply(x, y)"
      ],
      "cell_type": "code",
      "execution_count": 0,
      "outputs": [
        {
          "output_type": "stream",
          "text": [
            "[[  5.  12.]\n",
            " [ 21.  32.]]\n",
            "[[  5.  12.]\n",
            " [ 21.  32.]]\n"
          ],
          "name": "stdout"
        }
      ]
    },
    {
      "metadata": {
        "id": "XXtTacc-5q5_",
        "colab_type": "code",
        "colab": {
          "autoexec": {
            "startup": false,
            "wait_interval": 0
          },
          "output_extras": [
            {}
          ]
        },
        "outputId": "ef25632c-fff6-4f33-d10b-6f7f8b56734a"
      },
      "source": [
        "# Elementwise division; both produce the array\n",
        "# [[ 0.2         0.33333333]\n",
        "#  [ 0.42857143  0.5       ]]\n",
        "print x / y\n",
        "print np.divide(x, y)"
      ],
      "cell_type": "code",
      "execution_count": 0,
      "outputs": [
        {
          "output_type": "stream",
          "text": [
            "[[ 0.2         0.33333333]\n",
            " [ 0.42857143  0.5       ]]\n",
            "[[ 0.2         0.33333333]\n",
            " [ 0.42857143  0.5       ]]\n"
          ],
          "name": "stdout"
        }
      ]
    },
    {
      "metadata": {
        "id": "f8mK4UbW5q6A",
        "colab_type": "code",
        "colab": {
          "autoexec": {
            "startup": false,
            "wait_interval": 0
          },
          "output_extras": [
            {}
          ]
        },
        "outputId": "6357911c-7cdd-4495-fd60-7441f8ac004a"
      },
      "source": [
        "# Elementwise square root; produces the array\n",
        "# [[ 1.          1.41421356]\n",
        "#  [ 1.73205081  2.        ]]\n",
        "print np.sqrt(x)"
      ],
      "cell_type": "code",
      "execution_count": 0,
      "outputs": [
        {
          "output_type": "stream",
          "text": [
            "[[ 1.          1.41421356]\n",
            " [ 1.73205081  2.        ]]\n"
          ],
          "name": "stdout"
        }
      ]
    },
    {
      "metadata": {
        "id": "gUaJRH_O5q6D",
        "colab_type": "text"
      },
      "source": [
        "Note that unlike MATLAB, `*` is elementwise multiplication, not matrix multiplication. We instead use the dot function to compute inner products of vectors, to multiply a vector by a matrix, and to multiply matrices. dot is available both as a function in the numpy module and as an instance method of array objects:"
      ],
      "cell_type": "markdown"
    },
    {
      "metadata": {
        "id": "xpax7lRp5q6D",
        "colab_type": "code",
        "colab": {
          "autoexec": {
            "startup": false,
            "wait_interval": 0
          },
          "output_extras": [
            {}
          ]
        },
        "outputId": "d835b564-fd34-4575-f952-3a3a3606c7ed"
      },
      "source": [
        "x = np.array([[1,2],[3,4]])\n",
        "y = np.array([[5,6],[7,8]])\n",
        "\n",
        "v = np.array([9,10])\n",
        "w = np.array([11, 12])\n",
        "\n",
        "# Inner product of vectors; both produce 219\n",
        "print v.dot(w)\n",
        "print np.dot(v, w)"
      ],
      "cell_type": "code",
      "execution_count": 0,
      "outputs": [
        {
          "output_type": "stream",
          "text": [
            "219\n",
            "219\n"
          ],
          "name": "stdout"
        }
      ]
    },
    {
      "metadata": {
        "id": "QadKUnk95q6E",
        "colab_type": "code",
        "colab": {
          "autoexec": {
            "startup": false,
            "wait_interval": 0
          },
          "output_extras": [
            {}
          ]
        },
        "outputId": "b5b26cdb-e51e-4e3b-fc42-81af7857236c"
      },
      "source": [
        "# Matrix / vector product; both produce the rank 1 array [29 67]\n",
        "print x.dot(v)\n",
        "print np.dot(x, v)"
      ],
      "cell_type": "code",
      "execution_count": 0,
      "outputs": [
        {
          "output_type": "stream",
          "text": [
            "[29 67]\n",
            "[29 67]\n"
          ],
          "name": "stdout"
        }
      ]
    },
    {
      "metadata": {
        "id": "sIb3tp555q6G",
        "colab_type": "code",
        "colab": {
          "autoexec": {
            "startup": false,
            "wait_interval": 0
          },
          "output_extras": [
            {}
          ]
        },
        "outputId": "c66337a5-dccd-4ebf-c575-6cf03f8f1e66"
      },
      "source": [
        "# Matrix / matrix product; both produce the rank 2 array\n",
        "# [[19 22]\n",
        "#  [43 50]]\n",
        "print x.dot(y)\n",
        "print np.dot(x, y)"
      ],
      "cell_type": "code",
      "execution_count": 0,
      "outputs": [
        {
          "output_type": "stream",
          "text": [
            "[[19 22]\n",
            " [43 50]]\n",
            "[[19 22]\n",
            " [43 50]]\n"
          ],
          "name": "stdout"
        }
      ]
    },
    {
      "metadata": {
        "id": "IE5yrZG45q6H",
        "colab_type": "text"
      },
      "source": [
        "Numpy provides many useful functions for performing computations on arrays; one of the most useful is `sum`:"
      ],
      "cell_type": "markdown"
    },
    {
      "metadata": {
        "id": "y5K4V28p5q6I",
        "colab_type": "code",
        "colab": {
          "autoexec": {
            "startup": false,
            "wait_interval": 0
          },
          "output_extras": [
            {}
          ]
        },
        "outputId": "e5a484c7-d05f-4b8d-8998-57f45c011252"
      },
      "source": [
        "x = np.array([[1,2],[3,4]])\n",
        "\n",
        "print np.sum(x)  # Compute sum of all elements; prints \"10\"\n",
        "print np.sum(x, axis=0)  # Compute sum of each column; prints \"[4 6]\"\n",
        "print np.sum(x, axis=1)  # Compute sum of each row; prints \"[3 7]\""
      ],
      "cell_type": "code",
      "execution_count": 0,
      "outputs": [
        {
          "output_type": "stream",
          "text": [
            "10\n",
            "[4 6]\n",
            "[3 7]\n"
          ],
          "name": "stdout"
        }
      ]
    },
    {
      "metadata": {
        "id": "TOEJPgkk5q6K",
        "colab_type": "text"
      },
      "source": [
        "You can find the full list of mathematical functions provided by numpy in the [documentation](http://docs.scipy.org/doc/numpy/reference/routines.math.html).\n",
        "\n",
        "Apart from computing mathematical functions using arrays, we frequently need to reshape or otherwise manipulate data in arrays. The simplest example of this type of operation is transposing a matrix; to transpose a matrix, simply use the T attribute of an array object:"
      ],
      "cell_type": "markdown"
    },
    {
      "metadata": {
        "id": "1NhZkHCm5q6K",
        "colab_type": "code",
        "colab": {
          "autoexec": {
            "startup": false,
            "wait_interval": 0
          },
          "output_extras": [
            {}
          ]
        },
        "outputId": "a90bee06-d7d0-4dce-8da7-8396cb3d7056"
      },
      "source": [
        "print x\n",
        "print x.T"
      ],
      "cell_type": "code",
      "execution_count": 0,
      "outputs": [
        {
          "output_type": "stream",
          "text": [
            "[[1 2]\n",
            " [3 4]]\n",
            "[[1 3]\n",
            " [2 4]]\n"
          ],
          "name": "stdout"
        }
      ]
    },
    {
      "metadata": {
        "id": "GCCJQ-835q6M",
        "colab_type": "code",
        "colab": {
          "autoexec": {
            "startup": false,
            "wait_interval": 0
          },
          "output_extras": [
            {}
          ]
        },
        "outputId": "0743edea-9ad6-44cc-9249-0a93eef05ea3"
      },
      "source": [
        "v = np.array([[1,2,3]])\n",
        "print v \n",
        "print v.T"
      ],
      "cell_type": "code",
      "execution_count": 0,
      "outputs": [
        {
          "output_type": "stream",
          "text": [
            "[1 2 3]\n",
            "[1 2 3]\n"
          ],
          "name": "stdout"
        }
      ]
    },
    {
      "metadata": {
        "id": "98-AIk6u5q6O",
        "colab_type": "text"
      },
      "source": [
        "### Broadcasting"
      ],
      "cell_type": "markdown"
    },
    {
      "metadata": {
        "id": "ihjioOGn5q6O",
        "colab_type": "text"
      },
      "source": [
        "Broadcasting is a powerful mechanism that allows numpy to work with arrays of different shapes when performing arithmetic operations. Frequently we have a smaller array and a larger array, and we want to use the smaller array multiple times to perform some operation on the larger array.\n",
        "\n",
        "For example, suppose that we want to add a constant vector to each row of a matrix. We could do it like this:"
      ],
      "cell_type": "markdown"
    },
    {
      "metadata": {
        "id": "DPtd0SVC5q6O",
        "colab_type": "code",
        "colab": {
          "autoexec": {
            "startup": false,
            "wait_interval": 0
          },
          "output_extras": [
            {}
          ]
        },
        "outputId": "08c3ac52-41dc-4ba9-aad2-37e8583653f0"
      },
      "source": [
        "# We will add the vector v to each row of the matrix x,\n",
        "# storing the result in the matrix y\n",
        "x = np.array([[1,2,3], [4,5,6], [7,8,9], [10, 11, 12]])\n",
        "v = np.array([1, 0, 1])\n",
        "y = np.empty_like(x)   # Create an empty matrix with the same shape as x\n",
        "\n",
        "# Add the vector v to each row of the matrix x with an explicit loop\n",
        "for i in range(4):\n",
        "    y[i, :] = x[i, :] + v\n",
        "\n",
        "print y"
      ],
      "cell_type": "code",
      "execution_count": 0,
      "outputs": [
        {
          "output_type": "stream",
          "text": [
            "[[ 2  2  4]\n",
            " [ 5  5  7]\n",
            " [ 8  8 10]\n",
            " [11 11 13]]\n"
          ],
          "name": "stdout"
        }
      ]
    },
    {
      "metadata": {
        "id": "V6krlZtE5q6Q",
        "colab_type": "text"
      },
      "source": [
        "This works; however when the matrix `x` is very large, computing an explicit loop in Python could be slow. Note that adding the vector v to each row of the matrix `x` is equivalent to forming a matrix `vv` by stacking multiple copies of `v` vertically, then performing elementwise summation of `x` and `vv`. We could implement this approach like this:"
      ],
      "cell_type": "markdown"
    },
    {
      "metadata": {
        "id": "iACv1y1O5q6R",
        "colab_type": "code",
        "colab": {
          "autoexec": {
            "startup": false,
            "wait_interval": 0
          },
          "output_extras": [
            {}
          ]
        },
        "outputId": "60ad6908-3f80-4deb-8e1a-5620fe1c7ffe"
      },
      "source": [
        "vv = np.tile(v, (4, 1))  # Stack 4 copies of v on top of each other\n",
        "print vv                 # Prints \"[[1 0 1]\n",
        "                         #          [1 0 1]\n",
        "                         #          [1 0 1]\n",
        "                         #          [1 0 1]]\""
      ],
      "cell_type": "code",
      "execution_count": 0,
      "outputs": [
        {
          "output_type": "stream",
          "text": [
            "[[1 0 1]\n",
            " [1 0 1]\n",
            " [1 0 1]\n",
            " [1 0 1]]\n"
          ],
          "name": "stdout"
        }
      ]
    },
    {
      "metadata": {
        "id": "e9VwkQ4v5q6S",
        "colab_type": "code",
        "colab": {
          "autoexec": {
            "startup": false,
            "wait_interval": 0
          },
          "output_extras": [
            {}
          ]
        },
        "outputId": "7f0434d5-0842-4125-9d45-68489e2a3d46"
      },
      "source": [
        "y = x + vv  # Add x and vv elementwise\n",
        "print y"
      ],
      "cell_type": "code",
      "execution_count": 0,
      "outputs": [
        {
          "output_type": "stream",
          "text": [
            "[[ 2  2  4]\n",
            " [ 5  5  7]\n",
            " [ 8  8 10]\n",
            " [11 11 13]]\n"
          ],
          "name": "stdout"
        }
      ]
    },
    {
      "metadata": {
        "id": "SjJw6Plx5q6U",
        "colab_type": "text"
      },
      "source": [
        "Numpy broadcasting allows us to perform this computation without actually creating multiple copies of v. Consider this version, using broadcasting:"
      ],
      "cell_type": "markdown"
    },
    {
      "metadata": {
        "id": "CKBoLNJg5q6U",
        "colab_type": "code",
        "colab": {
          "autoexec": {
            "startup": false,
            "wait_interval": 0
          },
          "output_extras": [
            {}
          ]
        },
        "outputId": "0e776338-7311-4f29-e5c1-1200758281dc"
      },
      "source": [
        "import numpy as np\n",
        "\n",
        "# We will add the vector v to each row of the matrix x,\n",
        "# storing the result in the matrix y\n",
        "x = np.array([[1,2,3], [4,5,6], [7,8,9], [10, 11, 12]])\n",
        "v = np.array([1, 0, 1])\n",
        "y = x + v  # Add v to each row of x using broadcasting\n",
        "print y"
      ],
      "cell_type": "code",
      "execution_count": 0,
      "outputs": [
        {
          "output_type": "stream",
          "text": [
            "[[ 2  2  4]\n",
            " [ 5  5  7]\n",
            " [ 8  8 10]\n",
            " [11 11 13]]\n"
          ],
          "name": "stdout"
        }
      ]
    },
    {
      "metadata": {
        "id": "3n0cLWAw5q6V",
        "colab_type": "text"
      },
      "source": [
        "The line `y = x + v` works even though `x` has shape `(4, 3)` and `v` has shape `(3,)` due to broadcasting; this line works as if v actually had shape `(4, 3)`, where each row was a copy of `v`, and the sum was performed elementwise.\n",
        "\n",
        "Broadcasting two arrays together follows these rules:\n",
        "\n",
        "1. If the arrays do not have the same rank, prepend the shape of the lower rank array with 1s until both shapes have the same length.\n",
        "2. The two arrays are said to be compatible in a dimension if they have the same size in the dimension, or if one of the arrays has size 1 in that dimension.\n",
        "3. The arrays can be broadcast together if they are compatible in all dimensions.\n",
        "4. After broadcasting, each array behaves as if it had shape equal to the elementwise maximum of shapes of the two input arrays.\n",
        "5. In any dimension where one array had size 1 and the other array had size greater than 1, the first array behaves as if it were copied along that dimension\n",
        "\n",
        "If this explanation does not make sense, try reading the explanation from the [documentation](http://docs.scipy.org/doc/numpy/user/basics.broadcasting.html) or this [explanation](http://wiki.scipy.org/EricsBroadcastingDoc).\n",
        "\n",
        "Functions that support broadcasting are known as universal functions. You can find the list of all universal functions in the [documentation](http://docs.scipy.org/doc/numpy/reference/ufuncs.html#available-ufuncs).\n",
        "\n",
        "Here are some applications of broadcasting:"
      ],
      "cell_type": "markdown"
    },
    {
      "metadata": {
        "id": "8lsu4IME5q6W",
        "colab_type": "code",
        "colab": {
          "autoexec": {
            "startup": false,
            "wait_interval": 0
          },
          "output_extras": [
            {}
          ]
        },
        "outputId": "a2deda68-eb76-4cd6-c0dc-e066a44849d0"
      },
      "source": [
        "# Compute outer product of vectors\n",
        "v = np.array([1,2,3])  # v has shape (3,)\n",
        "w = np.array([4,5])    # w has shape (2,)\n",
        "# To compute an outer product, we first reshape v to be a column\n",
        "# vector of shape (3, 1); we can then broadcast it against w to yield\n",
        "# an output of shape (3, 2), which is the outer product of v and w:\n",
        "\n",
        "print np.reshape(v, (3, 1)) * w"
      ],
      "cell_type": "code",
      "execution_count": 0,
      "outputs": [
        {
          "output_type": "stream",
          "text": [
            "[[ 4  5]\n",
            " [ 8 10]\n",
            " [12 15]]\n"
          ],
          "name": "stdout"
        }
      ]
    },
    {
      "metadata": {
        "id": "-orCUm6c5q6X",
        "colab_type": "code",
        "colab": {
          "autoexec": {
            "startup": false,
            "wait_interval": 0
          },
          "output_extras": [
            {}
          ]
        },
        "outputId": "caf5117a-080b-4d2f-b607-803391a58d2d"
      },
      "source": [
        "# Add a vector to each row of a matrix\n",
        "x = np.array([[1,2,3], [4,5,6]])\n",
        "# x has shape (2, 3) and v has shape (3,) so they broadcast to (2, 3),\n",
        "# giving the following matrix:\n",
        "\n",
        "print x + v"
      ],
      "cell_type": "code",
      "execution_count": 0,
      "outputs": [
        {
          "output_type": "stream",
          "text": [
            "[[2 4 6]\n",
            " [5 7 9]]\n"
          ],
          "name": "stdout"
        }
      ]
    },
    {
      "metadata": {
        "id": "fAuY02dP5q6b",
        "colab_type": "code",
        "colab": {
          "autoexec": {
            "startup": false,
            "wait_interval": 0
          },
          "output_extras": [
            {}
          ]
        },
        "outputId": "9aed6e0f-491c-4a2b-ed6b-a35410a86e64"
      },
      "source": [
        "# Add a vector to each column of a matrix\n",
        "# x has shape (2, 3) and w has shape (2,).\n",
        "# If we transpose x then it has shape (3, 2) and can be broadcast\n",
        "# against w to yield a result of shape (3, 2); transposing this result\n",
        "# yields the final result of shape (2, 3) which is the matrix x with\n",
        "# the vector w added to each column. Gives the following matrix:\n",
        "\n",
        "print (x.T + w).T"
      ],
      "cell_type": "code",
      "execution_count": 0,
      "outputs": [
        {
          "output_type": "stream",
          "text": [
            "[[ 5  6  7]\n",
            " [ 9 10 11]]\n"
          ],
          "name": "stdout"
        }
      ]
    },
    {
      "metadata": {
        "id": "hMzxU0GW5q6c",
        "colab_type": "code",
        "colab": {
          "autoexec": {
            "startup": false,
            "wait_interval": 0
          },
          "output_extras": [
            {}
          ]
        },
        "outputId": "4a70a685-33e2-4c5c-c3e6-230efedc3772"
      },
      "source": [
        "# Another solution is to reshape w to be a row vector of shape (2, 1);\n",
        "# we can then broadcast it directly against x to produce the same\n",
        "# output.\n",
        "print x + np.reshape(w, (2, 1))"
      ],
      "cell_type": "code",
      "execution_count": 0,
      "outputs": [
        {
          "output_type": "stream",
          "text": [
            "[[ 5  6  7]\n",
            " [ 9 10 11]]\n"
          ],
          "name": "stdout"
        }
      ]
    },
    {
      "metadata": {
        "id": "jGCfbEhK5q6d",
        "colab_type": "code",
        "colab": {
          "autoexec": {
            "startup": false,
            "wait_interval": 0
          },
          "output_extras": [
            {}
          ]
        },
        "outputId": "1fb51a8c-f7b8-4379-b1d3-ed538e18a182"
      },
      "source": [
        "# Multiply a matrix by a constant:\n",
        "# x has shape (2, 3). Numpy treats scalars as arrays of shape ();\n",
        "# these can be broadcast together to shape (2, 3), producing the\n",
        "# following array:\n",
        "print x * 2"
      ],
      "cell_type": "code",
      "execution_count": 0,
      "outputs": [
        {
          "output_type": "stream",
          "text": [
            "[[ 2  4  6]\n",
            " [ 8 10 12]]\n"
          ],
          "name": "stdout"
        }
      ]
    },
    {
      "metadata": {
        "id": "4srkWKOE5q6f",
        "colab_type": "text"
      },
      "source": [
        "Broadcasting typically makes your code more concise and faster, so you should strive to use it where possible."
      ],
      "cell_type": "markdown"
    },
    {
      "metadata": {
        "id": "vdNrBYZK5q6f",
        "colab_type": "text"
      },
      "source": [
        "This brief overview has touched on many of the important things that you need to know about numpy, but is far from complete. Check out the [numpy reference](http://docs.scipy.org/doc/numpy/reference/) to find out much more about numpy."
      ],
      "cell_type": "markdown"
    },
    {
      "metadata": {
        "id": "TLaide-FlNsm",
        "colab_type": "text"
      },
      "source": [
        ""
      ],
      "cell_type": "markdown"
    },
    {
      "metadata": {
        "id": "UKm2hzgz5q6f",
        "colab_type": "text"
      },
      "source": [
        "##Matplotlib"
      ],
      "cell_type": "markdown"
    },
    {
      "metadata": {
        "id": "VDFgGJz45q6g",
        "colab_type": "text"
      },
      "source": [
        "Matplotlib is a plotting library. In this section give a brief introduction to the `matplotlib.pyplot` module, which provides a plotting system similar to that of MATLAB."
      ],
      "cell_type": "markdown"
    },
    {
      "metadata": {
        "id": "0bTVXB7L5q6g",
        "colab_type": "code",
        "colab": {
          "autoexec": {
            "startup": false,
            "wait_interval": 0
          }
        }
      },
      "source": [
        "import matplotlib.pyplot as plt"
      ],
      "cell_type": "code",
      "execution_count": 0,
      "outputs": []
    },
    {
      "metadata": {
        "id": "ELWE3_9J5q6h",
        "colab_type": "text"
      },
      "source": [
        "By running this special iPython command, we will be displaying plots inline:"
      ],
      "cell_type": "markdown"
    },
    {
      "metadata": {
        "id": "H0vjMgyu5q6h",
        "colab_type": "code",
        "colab": {
          "autoexec": {
            "startup": false,
            "wait_interval": 0
          }
        }
      },
      "source": [
        "%matplotlib inline"
      ],
      "cell_type": "code",
      "execution_count": 0,
      "outputs": []
    },
    {
      "metadata": {
        "id": "EQMkKaNH5q6j",
        "colab_type": "text"
      },
      "source": [
        "###Plotting"
      ],
      "cell_type": "markdown"
    },
    {
      "metadata": {
        "id": "biPNrc5O5q6j",
        "colab_type": "text"
      },
      "source": [
        "The most important function in `matplotlib` is plot, which allows you to plot 2D data. Here is a simple example:"
      ],
      "cell_type": "markdown"
    },
    {
      "metadata": {
        "id": "bw_DJK-E5q6j",
        "colab_type": "code",
        "colab": {
          "autoexec": {
            "startup": false,
            "wait_interval": 0
          },
          "output_extras": [
            {},
            {}
          ]
        },
        "outputId": "c6fc404c-1a93-4fe3-cfbc-32b14db0793b"
      },
      "source": [
        "# Compute the x and y coordinates for points on a sine curve\n",
        "x = np.arange(0, 3 * np.pi, 0.1)\n",
        "y = np.sin(x)\n",
        "\n",
        "# Plot the points using matplotlib\n",
        "plt.plot(x, y)"
      ],
      "cell_type": "code",
      "execution_count": 0,
      "outputs": [
        {
          "output_type": "execute_result",
          "data": {},
          "metadata": {
            "tags": []
          },
          "execution_count": 252
        },
        {
          "output_type": "display_data",
          "data": {},
          "metadata": {
            "tags": []
          }
        }
      ]
    },
    {
      "metadata": {
        "id": "7i9nqVNL5q6l",
        "colab_type": "text"
      },
      "source": [
        "With just a little bit of extra work we can easily plot multiple lines at once, and add a title, legend, and axis labels:"
      ],
      "cell_type": "markdown"
    },
    {
      "metadata": {
        "id": "v96UGlPT5q6l",
        "colab_type": "code",
        "colab": {
          "autoexec": {
            "startup": false,
            "wait_interval": 0
          },
          "output_extras": [
            {},
            {}
          ]
        },
        "outputId": "8add8bef-51ff-416c-809e-a31f2735a36c"
      },
      "source": [
        "y_cos = np.cos(x)\n",
        "\n",
        "# Plot the points using matplotlib\n",
        "plt.plot(x, y_sin)\n",
        "plt.plot(x, y_cos)\n",
        "plt.xlabel('x axis label')\n",
        "plt.ylabel('y axis label')\n",
        "plt.title('Sine and Cosine')\n",
        "plt.legend(['Sine', 'Cosine'])"
      ],
      "cell_type": "code",
      "execution_count": 0,
      "outputs": [
        {
          "output_type": "execute_result",
          "data": {},
          "metadata": {
            "tags": []
          },
          "execution_count": 254
        },
        {
          "output_type": "display_data",
          "data": {},
          "metadata": {
            "tags": []
          }
        }
      ]
    },
    {
      "metadata": {
        "id": "jJCY7j3Y5q6p",
        "colab_type": "text"
      },
      "source": [
        "###Subplots "
      ],
      "cell_type": "markdown"
    },
    {
      "metadata": {
        "id": "vPAoU6yZ5q6q",
        "colab_type": "text"
      },
      "source": [
        "You can plot different things in the same figure using the subplot function. Here is an example:"
      ],
      "cell_type": "markdown"
    },
    {
      "metadata": {
        "id": "Lhgz6eYq5q6q",
        "colab_type": "code",
        "colab": {
          "autoexec": {
            "startup": false,
            "wait_interval": 0
          },
          "output_extras": [
            {}
          ]
        },
        "outputId": "d5a40a8c-f872-4b58-c214-5107ff8bc836"
      },
      "source": [
        "# Compute the x and y coordinates for points on sine and cosine curves\n",
        "x = np.arange(0, 3 * np.pi, 0.1)\n",
        "y_sin = np.sin(x)\n",
        "y_cos = np.cos(x)\n",
        "\n",
        "# Set up a subplot grid that has height 2 and width 1,\n",
        "# and set the first such subplot as active.\n",
        "plt.subplot(2, 1, 1)\n",
        "\n",
        "# Make the first plot\n",
        "plt.plot(x, y_sin)\n",
        "plt.title('Sine')\n",
        "\n",
        "# Set the second subplot as active, and make the second plot.\n",
        "plt.subplot(2, 1, 2)\n",
        "plt.plot(x, y_cos)\n",
        "plt.title('Cosine')\n",
        "\n",
        "# Show the figure.\n",
        "plt.show()"
      ],
      "cell_type": "code",
      "execution_count": 0,
      "outputs": [
        {
          "output_type": "display_data",
          "data": {},
          "metadata": {
            "tags": []
          }
        }
      ]
    },
    {
      "metadata": {
        "id": "nCEH5MGI5q6s",
        "colab_type": "text"
      },
      "source": [
        "You can read much more about the `subplot` function in the [documentation](http://matplotlib.org/api/pyplot_api.html#matplotlib.pyplot.subplot)."
      ],
      "cell_type": "markdown"
    },
    {
      "metadata": {
        "id": "WaeAaZCeLPKX",
        "colab_type": "text"
      },
      "source": [
        ""
      ],
      "cell_type": "markdown"
    },
    {
      "metadata": {
        "id": "xaa4_PVT5q6s",
        "colab_type": "code",
        "colab": {
          "autoexec": {
            "startup": false,
            "wait_interval": 0
          }
        }
      },
      "source": [
        ""
      ],
      "cell_type": "code",
      "execution_count": 0,
      "outputs": []
    },
    {
      "metadata": {
        "id": "kvYAgRffv9HS",
        "colab_type": "text"
      },
      "source": [
        "# Before you go!\n",
        "\n",
        "Please quickly fill out [this form](https://docs.google.com/forms/d/e/1FAIpQLScXIaL1_9fUvi0CoCoFLd0AeUUlTILMdg2wqwzN2RSiBiRU0w/viewform) to let us know you've completed the pre-work! (Please use the email address you used to register for the DL Indaba.)"
      ],
      "cell_type": "markdown"
    },
    {
      "metadata": {
        "id": "6mObYgBb55Ug",
        "colab_type": "text"
      },
      "source": [
        "# Acknowledgements\n",
        "\n",
        "This tutorial is based on the adapted version by [Volodymyr Kuleshov](http://web.stanford.edu/~kuleshov/) and [Isaac Caswell](https://symsys.stanford.edu/viewing/symsysaffiliate/21335), which was in turn adapted from the original `CS231n` Python tutorial by Justin Johnson (http://cs231n.github.io/python-numpy-tutorial/)."
      ],
      "cell_type": "markdown"
    },
    {
      "metadata": {
        "id": "gRVd9o196FVQ",
        "colab_type": "code",
        "colab": {
          "autoexec": {
            "startup": false,
            "wait_interval": 0
          }
        }
      },
      "source": [
        ""
      ],
      "cell_type": "code",
      "execution_count": 0,
      "outputs": []
    }
  ]
}
